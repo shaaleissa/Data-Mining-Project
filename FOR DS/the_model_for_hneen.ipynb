{
 "cells": [
  {
   "cell_type": "code",
   "execution_count": 30,
   "metadata": {},
   "outputs": [
    {
     "data": {
      "text/html": [
       "<div>\n",
       "<style scoped>\n",
       "    .dataframe tbody tr th:only-of-type {\n",
       "        vertical-align: middle;\n",
       "    }\n",
       "\n",
       "    .dataframe tbody tr th {\n",
       "        vertical-align: top;\n",
       "    }\n",
       "\n",
       "    .dataframe thead th {\n",
       "        text-align: right;\n",
       "    }\n",
       "</style>\n",
       "<table border=\"1\" class=\"dataframe\">\n",
       "  <thead>\n",
       "    <tr style=\"text-align: right;\">\n",
       "      <th></th>\n",
       "      <th>text</th>\n",
       "      <th>Sentiment</th>\n",
       "    </tr>\n",
       "  </thead>\n",
       "  <tbody>\n",
       "    <tr>\n",
       "      <th>0</th>\n",
       "      <td>حقوق المرأة 💚💚💚 https://t.co/Mzf90Ta5g1</td>\n",
       "      <td>1</td>\n",
       "    </tr>\n",
       "    <tr>\n",
       "      <th>1</th>\n",
       "      <td>RT @___IHAVENOIDEA: حقوق المرأة في الإسلام. ht...</td>\n",
       "      <td>1</td>\n",
       "    </tr>\n",
       "    <tr>\n",
       "      <th>2</th>\n",
       "      <td>RT @saud_talep: Retweeted لجنة التنمية بشبرا (...</td>\n",
       "      <td>1</td>\n",
       "    </tr>\n",
       "    <tr>\n",
       "      <th>3</th>\n",
       "      <td>RT @MojKsa: حقوق المرأة التي تضمنها لها وزارة ...</td>\n",
       "      <td>1</td>\n",
       "    </tr>\n",
       "    <tr>\n",
       "      <th>4</th>\n",
       "      <td>RT @abm112211: ولي امر الزوجة او ولي الزوجة او...</td>\n",
       "      <td>1</td>\n",
       "    </tr>\n",
       "  </tbody>\n",
       "</table>\n",
       "</div>"
      ],
      "text/plain": [
       "                                                text  Sentiment\n",
       "0            حقوق المرأة 💚💚💚 https://t.co/Mzf90Ta5g1          1\n",
       "1  RT @___IHAVENOIDEA: حقوق المرأة في الإسلام. ht...          1\n",
       "2  RT @saud_talep: Retweeted لجنة التنمية بشبرا (...          1\n",
       "3  RT @MojKsa: حقوق المرأة التي تضمنها لها وزارة ...          1\n",
       "4  RT @abm112211: ولي امر الزوجة او ولي الزوجة او...          1"
      ]
     },
     "execution_count": 30,
     "metadata": {},
     "output_type": "execute_result"
    }
   ],
   "source": [
    "import pandas as pd\n",
    "import numpy as np\n",
    "import matplotlib.pyplot as plt\n",
    "import seaborn as sns\n",
    "\n",
    "# Load the data\n",
    "df_train= pd.read_csv('Arabic Sentiment Analysis Dataset - SS2030.csv')\n",
    "df_train.head()"
   ]
  },
  {
   "cell_type": "code",
   "execution_count": 31,
   "metadata": {},
   "outputs": [
    {
     "data": {
      "text/plain": [
       "Sentiment\n",
       "1    2436\n",
       "0    1816\n",
       "Name: count, dtype: int64"
      ]
     },
     "execution_count": 31,
     "metadata": {},
     "output_type": "execute_result"
    }
   ],
   "source": [
    "#number of positive and negative reviews\n",
    "df_train['Sentiment'].value_counts()"
   ]
  },
  {
   "cell_type": "code",
   "execution_count": 32,
   "metadata": {},
   "outputs": [
    {
     "data": {
      "text/html": [
       "<div>\n",
       "<style scoped>\n",
       "    .dataframe tbody tr th:only-of-type {\n",
       "        vertical-align: middle;\n",
       "    }\n",
       "\n",
       "    .dataframe tbody tr th {\n",
       "        vertical-align: top;\n",
       "    }\n",
       "\n",
       "    .dataframe thead th {\n",
       "        text-align: right;\n",
       "    }\n",
       "</style>\n",
       "<table border=\"1\" class=\"dataframe\">\n",
       "  <thead>\n",
       "    <tr style=\"text-align: right;\">\n",
       "      <th></th>\n",
       "      <th>text</th>\n",
       "      <th>Sentiment</th>\n",
       "    </tr>\n",
       "  </thead>\n",
       "  <tbody>\n",
       "    <tr>\n",
       "      <th>0</th>\n",
       "      <td>حقوق المراه يوجدرابط</td>\n",
       "      <td>1</td>\n",
       "    </tr>\n",
       "    <tr>\n",
       "      <th>1</th>\n",
       "      <td>حقوق المراه في الاسلام يوجدرابط</td>\n",
       "      <td>1</td>\n",
       "    </tr>\n",
       "    <tr>\n",
       "      <th>2</th>\n",
       "      <td>لجنه التنميه بشبرا ما زال التسجيل مستمر في دور...</td>\n",
       "      <td>1</td>\n",
       "    </tr>\n",
       "    <tr>\n",
       "      <th>3</th>\n",
       "      <td>حقوق المراه التي تضمنها لها وزاره العدل يوجدرابط</td>\n",
       "      <td>1</td>\n",
       "    </tr>\n",
       "    <tr>\n",
       "      <th>4</th>\n",
       "      <td>ولي امر الزوجه او ولي الزوجه او ولي المراه من ...</td>\n",
       "      <td>1</td>\n",
       "    </tr>\n",
       "    <tr>\n",
       "      <th>...</th>\n",
       "      <td>...</td>\n",
       "      <td>...</td>\n",
       "    </tr>\n",
       "    <tr>\n",
       "      <th>4247</th>\n",
       "      <td>غرد بحبك لمحمد بن سلمان</td>\n",
       "      <td>1</td>\n",
       "    </tr>\n",
       "    <tr>\n",
       "      <th>4248</th>\n",
       "      <td>غرد بحبك لمحمد بن سلمان محمدبن سلمان احبه الله...</td>\n",
       "      <td>1</td>\n",
       "    </tr>\n",
       "    <tr>\n",
       "      <th>4249</th>\n",
       "      <td>غرد بحبك لمحمد بن سلمان الله يحفظك يا ذخر الوط...</td>\n",
       "      <td>1</td>\n",
       "    </tr>\n",
       "    <tr>\n",
       "      <th>4250</th>\n",
       "      <td>غرد بحبك لمحمد بن سلمان الله يحفظه ويحميه ويقو...</td>\n",
       "      <td>1</td>\n",
       "    </tr>\n",
       "    <tr>\n",
       "      <th>4251</th>\n",
       "      <td>غرد بحبك لمحمد بن سلمان احبه احبه ياخي</td>\n",
       "      <td>1</td>\n",
       "    </tr>\n",
       "  </tbody>\n",
       "</table>\n",
       "<p>4252 rows × 2 columns</p>\n",
       "</div>"
      ],
      "text/plain": [
       "                                                   text  Sentiment\n",
       "0                                  حقوق المراه يوجدرابط          1\n",
       "1                       حقوق المراه في الاسلام يوجدرابط          1\n",
       "2     لجنه التنميه بشبرا ما زال التسجيل مستمر في دور...          1\n",
       "3      حقوق المراه التي تضمنها لها وزاره العدل يوجدرابط          1\n",
       "4     ولي امر الزوجه او ولي الزوجه او ولي المراه من ...          1\n",
       "...                                                 ...        ...\n",
       "4247                            غرد بحبك لمحمد بن سلمان          1\n",
       "4248  غرد بحبك لمحمد بن سلمان محمدبن سلمان احبه الله...          1\n",
       "4249  غرد بحبك لمحمد بن سلمان الله يحفظك يا ذخر الوط...          1\n",
       "4250  غرد بحبك لمحمد بن سلمان الله يحفظه ويحميه ويقو...          1\n",
       "4251             غرد بحبك لمحمد بن سلمان احبه احبه ياخي          1\n",
       "\n",
       "[4252 rows x 2 columns]"
      ]
     },
     "execution_count": 32,
     "metadata": {},
     "output_type": "execute_result"
    }
   ],
   "source": [
    "import aranorm\n",
    "df_train['text']=df_train['text'].apply(aranorm.normalize_tweet)\n",
    "df_train"
   ]
  },
  {
   "cell_type": "code",
   "execution_count": 33,
   "metadata": {},
   "outputs": [
    {
     "name": "stdout",
     "output_type": "stream",
     "text": [
      "Requirement already satisfied: pip in /Users/hneen/miniconda3/envs/tf_env/lib/python3.11/site-packages (24.0)\n",
      "Requirement already satisfied: nltk in /Users/hneen/miniconda3/envs/tf_env/lib/python3.11/site-packages (3.8.1)\n",
      "Requirement already satisfied: click in /Users/hneen/miniconda3/envs/tf_env/lib/python3.11/site-packages (from nltk) (8.1.7)\n",
      "Requirement already satisfied: joblib in /Users/hneen/miniconda3/envs/tf_env/lib/python3.11/site-packages (from nltk) (1.3.2)\n",
      "Requirement already satisfied: regex>=2021.8.3 in /Users/hneen/miniconda3/envs/tf_env/lib/python3.11/site-packages (from nltk) (2024.5.10)\n",
      "Requirement already satisfied: tqdm in /Users/hneen/miniconda3/envs/tf_env/lib/python3.11/site-packages (from nltk) (4.66.4)\n"
     ]
    }
   ],
   "source": [
    "! pip install --upgrade pip\n",
    "! pip install nltk"
   ]
  },
  {
   "cell_type": "code",
   "execution_count": 34,
   "metadata": {},
   "outputs": [],
   "source": [
    "import numpy as np\n",
    "import pandas as pd\n",
    "from tensorflow.keras.models import Sequential\n",
    "from tensorflow.keras.layers import LSTM, Dense, Embedding\n",
    "from tensorflow.keras.preprocessing.sequence import pad_sequences\n",
    "from sklearn.model_selection import train_test_split\n",
    "from sklearn.preprocessing import LabelEncoder\n",
    "import nltk\n",
    "from nltk.tokenize import word_tokenize\n",
    "from nltk.corpus import stopwords"
   ]
  },
  {
   "cell_type": "code",
   "execution_count": 35,
   "metadata": {},
   "outputs": [
    {
     "name": "stderr",
     "output_type": "stream",
     "text": [
      "[nltk_data] Downloading package stopwords to /Users/hneen/nltk_data...\n",
      "[nltk_data]   Package stopwords is already up-to-date!\n",
      "[nltk_data] Downloading package punkt to /Users/hneen/nltk_data...\n",
      "[nltk_data]   Package punkt is already up-to-date!\n"
     ]
    }
   ],
   "source": [
    "#over sampling\n",
    "from imblearn.over_sampling import SMOTE\n",
    "from sklearn.model_selection import train_test_split\n",
    "\n",
    "\n",
    "# Load your dataset (assuming you have it in a DataFrame format)\n",
    "# Replace the following line with code to load your dataset\n",
    "# df_train = pd.read_csv('your_dataset.csv')\n",
    "# df_train.head()\n",
    "nltk.download('stopwords')\n",
    "nltk.download('punkt')\n",
    "# Define maximum sequence length and vocabulary size\n",
    "max_len = 300\n",
    "vocab_size = 10000\n",
    "\n",
    "# Define a list of Arabic stopwords outside of the Numba-compiled function\n",
    "arabic_stopwords = list(set(stopwords.words('arabic')))\n",
    "\n",
    "# Tokenize Arabic text using NLTK's word_tokenize\n",
    "# You can further customize this tokenizer as needed\n",
    "def tokenize_text(text):\n",
    "    return word_tokenize(text)\n",
    "\n",
    "df_train['tokenized_text'] = df_train['text'].apply(tokenize_text)"
   ]
  },
  {
   "cell_type": "code",
   "execution_count": 36,
   "metadata": {},
   "outputs": [],
   "source": [
    "from tensorflow.keras.preprocessing.text import Tokenizer\n",
    "from tensorflow.keras.utils import to_categorical\n",
    "\n",
    "# Tokenize the text\n",
    "tokenizer = Tokenizer(num_words=vocab_size)\n",
    "tokenizer.fit_on_texts(df_train['tokenized_text'])\n",
    "sequences = tokenizer.texts_to_sequences(df_train['tokenized_text'])\n",
    "\n",
    "# Pad the sequences\n",
    "data_padded = pad_sequences(sequences, maxlen=max_len)\n",
    "\n",
    "# Encode the labels\n",
    "label_encoder = LabelEncoder()\n",
    "data_labels = label_encoder.fit_transform(df_train['Sentiment'])\n",
    "data_labels = to_categorical(data_labels)\n",
    "\n",
    "# Train-test split\n",
    "X_train, X_test, y_train, y_test = train_test_split(data_padded, data_labels, test_size=0.2, random_state=123)\n",
    "X_train, X_val, y_train, y_val = train_test_split(X_train, y_train, test_size=0.2, random_state=123)"
   ]
  },
  {
   "cell_type": "code",
   "execution_count": 37,
   "metadata": {},
   "outputs": [
    {
     "name": "stdout",
     "output_type": "stream",
     "text": [
      "Epoch 1/10\n",
      "85/85 [==============================] - 6s 61ms/step - loss: 0.4859 - accuracy: 0.7390 - val_loss: 0.3508 - val_accuracy: 0.8458\n",
      "Epoch 2/10\n",
      "85/85 [==============================] - 6s 65ms/step - loss: 0.1409 - accuracy: 0.9471 - val_loss: 0.3293 - val_accuracy: 0.8590\n",
      "Epoch 3/10\n",
      "85/85 [==============================] - 6s 71ms/step - loss: 0.0369 - accuracy: 0.9904 - val_loss: 0.4582 - val_accuracy: 0.8576\n",
      "Epoch 4/10\n",
      "85/85 [==============================] - 5s 61ms/step - loss: 0.0351 - accuracy: 0.9893 - val_loss: 0.4997 - val_accuracy: 0.8620\n",
      "Epoch 5/10\n",
      "85/85 [==============================] - 6s 68ms/step - loss: 0.0084 - accuracy: 0.9982 - val_loss: 0.5180 - val_accuracy: 0.8605\n",
      "Epoch 6/10\n",
      "85/85 [==============================] - 6s 67ms/step - loss: 0.0051 - accuracy: 0.9989 - val_loss: 0.6159 - val_accuracy: 0.8429\n",
      "Epoch 7/10\n",
      "85/85 [==============================] - 6s 71ms/step - loss: 0.0022 - accuracy: 0.9996 - val_loss: 0.6970 - val_accuracy: 0.8502\n",
      "Epoch 8/10\n",
      "85/85 [==============================] - 6s 75ms/step - loss: 0.0014 - accuracy: 0.9996 - val_loss: 0.7449 - val_accuracy: 0.8488\n",
      "Epoch 9/10\n",
      "85/85 [==============================] - 7s 79ms/step - loss: 0.0012 - accuracy: 0.9996 - val_loss: 0.8016 - val_accuracy: 0.8473\n",
      "Epoch 10/10\n",
      "85/85 [==============================] - 7s 79ms/step - loss: 8.5377e-04 - accuracy: 1.0000 - val_loss: 0.8254 - val_accuracy: 0.8517\n",
      "27/27 [==============================] - 0s 12ms/step - loss: 0.7191 - accuracy: 0.8672\n",
      "Test Loss: 0.7191157341003418, Test Accuracy: 0.8672150373458862\n"
     ]
    }
   ],
   "source": [
    "# Model parameters\n",
    "embedding_dim = 128\n",
    "lstm_units = 64\n",
    "\n",
    "# Build the LSTMmodel1\n",
    "LSTMmodel1 = Sequential()\n",
    "LSTMmodel1.add(Embedding(vocab_size, embedding_dim))\n",
    "LSTMmodel1.add(LSTM(lstm_units))\n",
    "LSTMmodel1.add(Dense(2, activation='sigmoid'))\n",
    "\n",
    "# Compile the LSTMmodel1\n",
    "LSTMmodel1.compile(optimizer='adam', loss='categorical_crossentropy', metrics=['accuracy'])\n",
    "\n",
    "# Train the LSTMmodel1\n",
    "history = LSTMmodel1.fit(X_train, y_train, batch_size=32, epochs=10, validation_data=(X_val, y_val))\n",
    "\n",
    "# Evaluate the LSTMmodel1\n",
    "loss, accuracy = LSTMmodel1.evaluate(X_test, y_test)\n",
    "print(f'Test Loss: {loss}, Test Accuracy: {accuracy}')"
   ]
  },
  {
   "cell_type": "code",
   "execution_count": 38,
   "metadata": {},
   "outputs": [
    {
     "name": "stderr",
     "output_type": "stream",
     "text": [
      "/Users/hneen/miniconda3/envs/tf_env/lib/python3.11/site-packages/sklearn/feature_extraction/text.py:408: UserWarning: Your stop_words may be inconsistent with your preprocessing. Tokenizing the stop words generated tokens ['آمين', 'أب', 'أخ', 'أفعل', 'أفعله', 'ؤلاء', 'إل', 'إم', 'ات', 'اتان', 'ارتد', 'ان', 'انفك', 'برح', 'تان', 'تبد', 'تحو', 'تعل', 'حد', 'حم', 'حي', 'خب', 'ذار', 'سيما', 'صه', 'ظل', 'ظن', 'عد', 'قط', 'مر', 'مكان', 'مكانكن', 'نب', 'هات', 'هب', 'واها', 'وراء'] not in stop_words.\n",
      "  warnings.warn(\n"
     ]
    },
    {
     "name": "stdout",
     "output_type": "stream",
     "text": [
      "Top important features: [(0.0542140995098676, 'عطاله'), (0.02376253045277279, 'الصحيه'), (0.023700868794519048, 'التخصصات'), (0.02103240802750488, 'سلمان'), (0.01661868415432122, 'الولايه'), (0.014986682071911204, 'سعوديات'), (0.014944674592699934, 'المراه'), (0.012046700203995396, 'نطلب'), (0.011809511868916357, 'اسقاط'), (0.01132418085435174, 'الشعب'), (0.009935110161853998, 'السفاح'), (0.00965373063731777, 'مهندسون'), (0.00960395605061321, 'قياده'), (0.009451580104437628, 'ضد'), (0.009380805295626293, 'بن'), (0.008303394402082179, 'ومحمد'), (0.007995231225210002, 'غرد'), (0.007091794870299627, 'لمحمد'), (0.0070107533130791344, 'بحبك'), (0.0068918645663276915, 'يوجدرابط')]\n"
     ]
    }
   ],
   "source": [
    "from sklearn.ensemble import RandomForestClassifier\n",
    "from sklearn.feature_extraction.text import TfidfVectorizer\n",
    "from sklearn.metrics import accuracy_score\n",
    "\n",
    "# Use TF-IDF to convert text data to feature vectors\n",
    "tfidf_vectorizer = TfidfVectorizer(max_features=vocab_size, stop_words=arabic_stopwords)\n",
    "X_tfidf = tfidf_vectorizer.fit_transform(df_train['text'])\n",
    "\n",
    "# We will use the label encoded data before converting to categorical\n",
    "label_encoder = LabelEncoder()\n",
    "data_labels = label_encoder.fit_transform(df_train['Sentiment'])\n",
    "\n",
    "# Split the data (using the same random state for consistency)\n",
    "X_train_tfidf, X_test_tfidf, y_train_tfidf, y_test_tfidf = train_test_split(X_tfidf, data_labels, test_size=0.2, random_state=123)\n",
    "\n",
    "# Train a Random Forest to find important features\n",
    "rf_model = RandomForestClassifier(n_estimators=100, random_state=123)\n",
    "rf_model.fit(X_train_tfidf, y_train_tfidf)\n",
    "\n",
    "# Feature importances\n",
    "importances = rf_model.feature_importances_\n",
    "feature_names = tfidf_vectorizer.get_feature_names_out()\n",
    "\n",
    "# Sort the features by importance\n",
    "important_features = sorted(zip(importances, feature_names), reverse=True)[:200]  # Select top 200 features\n",
    "\n",
    "# Print or plot the important features\n",
    "print(\"Top important features:\", important_features[:20])\n"
   ]
  },
  {
   "cell_type": "code",
   "execution_count": 39,
   "metadata": {},
   "outputs": [],
   "source": [
    "# Create a new tokenizer with only the most important words\n",
    "important_words = [word for _, word in important_features]\n",
    "tokenizer = Tokenizer(num_words=len(important_words))\n",
    "tokenizer.fit_on_texts(important_words)\n",
    "\n",
    "# Apply this new tokenizer to your text data\n",
    "sequences = tokenizer.texts_to_sequences(df_train['tokenized_text'])\n",
    "data_padded = pad_sequences(sequences, maxlen=max_len)\n",
    "\n",
    "# Continue with your existing LSTM model setup\n"
   ]
  },
  {
   "cell_type": "code",
   "execution_count": 40,
   "metadata": {},
   "outputs": [
    {
     "name": "stdout",
     "output_type": "stream",
     "text": [
      "Epoch 1/10\n",
      "85/85 [==============================] - 6s 56ms/step - loss: 0.4932 - accuracy: 0.7430 - val_loss: 0.3377 - val_accuracy: 0.8385\n",
      "Epoch 2/10\n",
      "85/85 [==============================] - 5s 56ms/step - loss: 0.3229 - accuracy: 0.8504 - val_loss: 0.2993 - val_accuracy: 0.8546\n",
      "Epoch 3/10\n",
      "85/85 [==============================] - 5s 64ms/step - loss: 0.3049 - accuracy: 0.8588 - val_loss: 0.2939 - val_accuracy: 0.8502\n",
      "Epoch 4/10\n",
      "85/85 [==============================] - 6s 71ms/step - loss: 0.2864 - accuracy: 0.8710 - val_loss: 0.2833 - val_accuracy: 0.8634\n",
      "Epoch 5/10\n",
      "85/85 [==============================] - 6s 65ms/step - loss: 0.2804 - accuracy: 0.8746 - val_loss: 0.2805 - val_accuracy: 0.8546\n",
      "Epoch 6/10\n",
      "85/85 [==============================] - 6s 67ms/step - loss: 0.2701 - accuracy: 0.8787 - val_loss: 0.2899 - val_accuracy: 0.8634\n",
      "Epoch 7/10\n",
      "85/85 [==============================] - 6s 70ms/step - loss: 0.2701 - accuracy: 0.8728 - val_loss: 0.2973 - val_accuracy: 0.8517\n",
      "Epoch 8/10\n",
      "85/85 [==============================] - 4s 52ms/step - loss: 0.2577 - accuracy: 0.8783 - val_loss: 0.2815 - val_accuracy: 0.8590\n",
      "Epoch 9/10\n",
      "85/85 [==============================] - 4s 52ms/step - loss: 0.2493 - accuracy: 0.8871 - val_loss: 0.2947 - val_accuracy: 0.8678\n",
      "Epoch 10/10\n",
      "85/85 [==============================] - 4s 50ms/step - loss: 0.2432 - accuracy: 0.8805 - val_loss: 0.2944 - val_accuracy: 0.8693\n",
      "27/27 [==============================] - 0s 11ms/step - loss: 0.3611 - accuracy: 0.8367\n",
      "Test Loss: 0.3610621392726898, Test Accuracy: 0.836662769317627\n"
     ]
    },
    {
     "data": {
      "image/png": "[encoded data removed]",
      "text/plain": [
       "<Figure size 640x480 with 1 Axes>"
      ]
     },
     "metadata": {},
     "output_type": "display_data"
    },
    {
     "data": {
      "image/png": "[encoded data removed]",
      "text/plain": [
       "<Figure size 640x480 with 1 Axes>"
      ]
     },
     "metadata": {},
     "output_type": "display_data"
    }
   ],
   "source": [
    "from tensorflow.keras.utils import to_categorical\n",
    "\n",
    "# Pad the sequences to ensure uniform input size\n",
    "data_padded = pad_sequences(sequences, maxlen=max_len)\n",
    "\n",
    "# Re-encode the labels since we are redefining our input\n",
    "label_encoder = LabelEncoder()\n",
    "data_labels = label_encoder.fit_transform(df_train['Sentiment'])\n",
    "data_labels = to_categorical(data_labels)\n",
    "\n",
    "# Perform train-test split again\n",
    "X_train, X_test, y_train, y_test = train_test_split(data_padded, data_labels, test_size=0.2, random_state=123)\n",
    "X_train, X_val, y_train, y_val = train_test_split(X_train, y_train, test_size=0.2, random_state=123)\n",
    "\n",
    "# Define the LSTM model architecture\n",
    "LSTMmodel1 = Sequential()\n",
    "LSTMmodel1.add(Embedding(len(important_words), embedding_dim))  # Use the length of important_words for vocab size\n",
    "LSTMmodel1.add(LSTM(lstm_units))\n",
    "LSTMmodel1.add(Dense(2, activation='sigmoid'))  # Output layer for two classes\n",
    "\n",
    "# Compile the model\n",
    "LSTMmodel1.compile(optimizer='adam', loss='categorical_crossentropy', metrics=['accuracy'])\n",
    "\n",
    "# Train the LSTM model\n",
    "history = LSTMmodel1.fit(X_train, y_train, batch_size=32, epochs=10, validation_data=(X_val, y_val))\n",
    "\n",
    "# Evaluate the model\n",
    "loss, accuracy = LSTMmodel1.evaluate(X_test, y_test)\n",
    "print(f'Test Loss: {loss}, Test Accuracy: {accuracy}')\n",
    "\n",
    "# Optionally, plot training history\n",
    "plt.plot(history.history['accuracy'], label='Train Accuracy')\n",
    "plt.plot(history.history['val_accuracy'], label='Validation Accuracy')\n",
    "plt.title('Model Accuracy')\n",
    "plt.ylabel('Accuracy')\n",
    "plt.xlabel('Epoch')\n",
    "plt.legend(loc='upper left')\n",
    "plt.show()\n",
    "\n",
    "plt.plot(history.history['loss'], label='Train Loss')\n",
    "plt.plot(history.history['val_loss'], label='Validation Loss')\n",
    "plt.title('Model Loss')\n",
    "plt.ylabel('Loss')\n",
    "plt.xlabel('Epoch')\n",
    "plt.legend(loc='upper left')\n",
    "plt.show()\n"
   ]
  },
  {
   "cell_type": "code",
   "execution_count": null,
   "metadata": {},
   "outputs": [],
   "source": []
  }
 ],
 "metadata": {
  "kernelspec": {
   "display_name": "base",
   "language": "python",
   "name": "python3"
  },
  "language_info": {
   "codemirror_mode": {
    "name": "ipython",
    "version": 3
   },
   "file_extension": ".py",
   "mimetype": "text/x-python",
   "name": "python",
   "nbconvert_exporter": "python",
   "pygments_lexer": "ipython3",
   "version": "3.11.7"
  }
 },
 "nbformat": 4,
 "nbformat_minor": 2
}
