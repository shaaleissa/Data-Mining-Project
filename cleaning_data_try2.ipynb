{
 "cells": [
  {
   "cell_type": "code",
   "execution_count": 2,
   "metadata": {},
   "outputs": [],
   "source": [
    "import pandas as pd\n",
    "import numpy as np\n",
    "import seaborn as sns\n",
    "from nltk.tokenize import word_tokenize\n",
    "from nltk.tokenize import RegexpTokenizer\n",
    "from nltk.corpus import stopwords\n",
    "import nltk"
   ]
  },
  {
   "cell_type": "code",
   "execution_count": 2,
   "metadata": {},
   "outputs": [
    {
     "name": "stderr",
     "output_type": "stream",
     "text": [
      "[nltk_data] Downloading package punkt to\n",
      "[nltk_data]     /Users/shahadaleissa/nltk_data...\n",
      "[nltk_data]   Package punkt is already up-to-date!\n"
     ]
    },
    {
     "data": {
      "text/plain": [
       "True"
      ]
     },
     "execution_count": 2,
     "metadata": {},
     "output_type": "execute_result"
    }
   ],
   "source": [
    "nltk.download('punkt')"
   ]
  },
  {
   "cell_type": "code",
   "execution_count": 3,
   "metadata": {},
   "outputs": [
    {
     "data": {
      "text/html": [
       "<div>\n",
       "<style scoped>\n",
       "    .dataframe tbody tr th:only-of-type {\n",
       "        vertical-align: middle;\n",
       "    }\n",
       "\n",
       "    .dataframe tbody tr th {\n",
       "        vertical-align: top;\n",
       "    }\n",
       "\n",
       "    .dataframe thead th {\n",
       "        text-align: right;\n",
       "    }\n",
       "</style>\n",
       "<table border=\"1\" class=\"dataframe\">\n",
       "  <thead>\n",
       "    <tr style=\"text-align: right;\">\n",
       "      <th></th>\n",
       "      <th>Reviews</th>\n",
       "    </tr>\n",
       "  </thead>\n",
       "  <tbody>\n",
       "    <tr>\n",
       "      <th>0</th>\n",
       "      <td>كان لي تجربه اكثر من رائعة اليوم في هذا الفرع ...</td>\n",
       "    </tr>\n",
       "    <tr>\n",
       "      <th>1</th>\n",
       "      <td>اسوء خدمة شركة اتصالات على المستوى العربي كله ...</td>\n",
       "    </tr>\n",
       "    <tr>\n",
       "      <th>2</th>\n",
       "      <td>اشكر الموظفة ضيء على تعاملها ورقيها وخدمتها لي...</td>\n",
       "    </tr>\n",
       "    <tr>\n",
       "      <th>3</th>\n",
       "      <td>اسوأ نت في العالم عانيت مليون مرررررا منهم رفع...</td>\n",
       "    </tr>\n",
       "    <tr>\n",
       "      <th>4</th>\n",
       "      <td>الفرع جداً ممتاز وأشكر الأخوات الموظفات على رح...</td>\n",
       "    </tr>\n",
       "    <tr>\n",
       "      <th>...</th>\n",
       "      <td>...</td>\n",
       "    </tr>\n",
       "    <tr>\n",
       "      <th>454</th>\n",
       "      <td>إنترنت لا محدود / سرعة 200 ميقا    .  . . .  #...</td>\n",
       "    </tr>\n",
       "    <tr>\n",
       "      <th>455</th>\n",
       "      <td>إنترنت لا محدود / سرعة 200 ميقا    .  . . .  #...</td>\n",
       "    </tr>\n",
       "    <tr>\n",
       "      <th>456</th>\n",
       "      <td>سرعة عالية 200ميجا . . . . . . . . . . 🤍💚  #ال...</td>\n",
       "    </tr>\n",
       "    <tr>\n",
       "      <th>457</th>\n",
       "      <td>سرعة عالية 200ميجا . . . . . . . . . . 🤍💚  #ال...</td>\n",
       "    </tr>\n",
       "    <tr>\n",
       "      <th>458</th>\n",
       "      <td>كيف اشترك فيها ؟ لان ما تطلع  لي بالتطبيق الا ...</td>\n",
       "    </tr>\n",
       "  </tbody>\n",
       "</table>\n",
       "<p>459 rows × 1 columns</p>\n",
       "</div>"
      ],
      "text/plain": [
       "                                               Reviews\n",
       "0    كان لي تجربه اكثر من رائعة اليوم في هذا الفرع ...\n",
       "1    اسوء خدمة شركة اتصالات على المستوى العربي كله ...\n",
       "2    اشكر الموظفة ضيء على تعاملها ورقيها وخدمتها لي...\n",
       "3    اسوأ نت في العالم عانيت مليون مرررررا منهم رفع...\n",
       "4    الفرع جداً ممتاز وأشكر الأخوات الموظفات على رح...\n",
       "..                                                 ...\n",
       "454  إنترنت لا محدود / سرعة 200 ميقا    .  . . .  #...\n",
       "455  إنترنت لا محدود / سرعة 200 ميقا    .  . . .  #...\n",
       "456  سرعة عالية 200ميجا . . . . . . . . . . 🤍💚  #ال...\n",
       "457  سرعة عالية 200ميجا . . . . . . . . . . 🤍💚  #ال...\n",
       "458  كيف اشترك فيها ؟ لان ما تطلع  لي بالتطبيق الا ...\n",
       "\n",
       "[459 rows x 1 columns]"
      ]
     },
     "execution_count": 3,
     "metadata": {},
     "output_type": "execute_result"
    }
   ],
   "source": [
    "df= pd.read_csv('combined_dataset.csv')\n",
    "df"
   ]
  },
  {
   "cell_type": "code",
   "execution_count": 4,
   "metadata": {},
   "outputs": [],
   "source": [
    "def count_duplicates(df):\n",
    "    \"\"\"\n",
    "    Counts the number of duplicate rows in the given DataFrame.\n",
    "\n",
    "    Parameters:\n",
    "    df (pd.DataFrame): The DataFrame in which to find duplicates.\n",
    "\n",
    "    Returns:\n",
    "    int: The number of duplicate rows in the DataFrame.\n",
    "    \"\"\"\n",
    "    # Count duplicate rows, excluding the first occurrence\n",
    "    duplicates_count = df.duplicated(keep='first').sum()\n",
    "    return duplicates_count"
   ]
  },
  {
   "cell_type": "code",
   "execution_count": 5,
   "metadata": {},
   "outputs": [
    {
     "data": {
      "text/plain": [
       "65"
      ]
     },
     "execution_count": 5,
     "metadata": {},
     "output_type": "execute_result"
    }
   ],
   "source": [
    "count_duplicates(df)"
   ]
  },
  {
   "cell_type": "code",
   "execution_count": 6,
   "metadata": {},
   "outputs": [],
   "source": [
    "def remove_duplicates(df, subset=None, keep='first', inplace=False):\n",
    "    \"\"\"\n",
    "    Removes duplicate rows from the given DataFrame.\n",
    "\n",
    "    Parameters:\n",
    "    df (pd.DataFrame): The DataFrame from which to remove duplicates.\n",
    "    subset (list of str, optional): Column labels to consider for identifying duplicates. \n",
    "                                    If None, consider all columns.\n",
    "    keep ({'first', 'last', False}, default 'first'): Determines which duplicates (if any) to keep.\n",
    "                                                      - 'first': Drop duplicates except for the first occurrence.\n",
    "                                                      - 'last': Drop duplicates except for the last occurrence.\n",
    "                                                      - False: Drop all duplicates.\n",
    "    inplace (bool, default False): Whether to drop duplicates in place or to return a copy.\n",
    "\n",
    "    Returns:\n",
    "    pd.DataFrame or None: A new DataFrame with duplicates removed, if inplace=False. \n",
    "                          None if inplace=True.\n",
    "    \"\"\"\n",
    "    if inplace:\n",
    "        df.drop_duplicates(subset=subset, keep=keep, inplace=True)\n",
    "    else:\n",
    "        return df.drop_duplicates(subset=subset, keep=keep)"
   ]
  },
  {
   "cell_type": "code",
   "execution_count": 7,
   "metadata": {},
   "outputs": [],
   "source": [
    "remove_duplicates(df, inplace=True)"
   ]
  },
  {
   "cell_type": "code",
   "execution_count": 8,
   "metadata": {},
   "outputs": [
    {
     "data": {
      "text/plain": [
       "0"
      ]
     },
     "execution_count": 8,
     "metadata": {},
     "output_type": "execute_result"
    }
   ],
   "source": [
    "count_duplicates(df)"
   ]
  },
  {
   "cell_type": "code",
   "execution_count": 9,
   "metadata": {},
   "outputs": [
    {
     "data": {
      "text/plain": [
       "Reviews    1\n",
       "dtype: int64"
      ]
     },
     "execution_count": 9,
     "metadata": {},
     "output_type": "execute_result"
    }
   ],
   "source": [
    "df.isna().sum()"
   ]
  },
  {
   "cell_type": "code",
   "execution_count": 10,
   "metadata": {},
   "outputs": [],
   "source": [
    "df.dropna(inplace=True)"
   ]
  },
  {
   "cell_type": "code",
   "execution_count": 11,
   "metadata": {},
   "outputs": [
    {
     "data": {
      "text/plain": [
       "Reviews    0\n",
       "dtype: int64"
      ]
     },
     "execution_count": 11,
     "metadata": {},
     "output_type": "execute_result"
    }
   ],
   "source": [
    "df.isna().sum()"
   ]
  },
  {
   "cell_type": "markdown",
   "metadata": {},
   "source": [
    "## using aranorm for arabic text processing"
   ]
  },
  {
   "cell_type": "code",
   "execution_count": 12,
   "metadata": {},
   "outputs": [],
   "source": [
    "import aranorm"
   ]
  },
  {
   "cell_type": "code",
   "execution_count": 13,
   "metadata": {},
   "outputs": [],
   "source": [
    "df['Reviews']=df['Reviews'].apply(aranorm.normalize_tweet)"
   ]
  },
  {
   "cell_type": "markdown",
   "metadata": {},
   "source": [
    "The following is an explanation of what `aranorm.normalize_tweet` does:\n",
    "\n",
    "```python\n",
    "def normalize_tweet(text):\n",
    "    new_text = text.lower()  # Convert text to lowercase\n",
    "    new_text = normalize_hamza(new_text)  # Normalize hamza variations\n",
    "    new_text = strip_tashkeel(new_text)  # Strip Arabic diacritics\n",
    "    new_text = strip_tatweel(new_text)  # Strip tatweel (kashida)\n",
    "    new_text = normalize_lamalef(new_text)  # Normalize Lam-Alef variations\n",
    "    new_text = normalize_spellerrors(new_text)  # Normalize common spelling errors\n",
    "    new_text = remove_retweet_tag(new_text)  # Remove retweet tags\n",
    "    new_text = replace_emails(new_text)  # Replace email addresses\n",
    "    new_text = remove_underscore(new_text)  # Remove underscores\n",
    "    new_text = replace_phone_numbers(new_text)  # Replace phone numbers\n",
    "    new_text = remove_all_punctuations(new_text)  # Remove all punctuation\n",
    "    new_text = replace_urls(new_text)  # Replace URLs\n",
    "    new_text = convert_eastern_to_western_numerals(new_text)  # Convert Eastern Arabic numerals to Western\n",
    "    new_text = remove_non_arabic(new_text)  # Remove non-Arabic characters\n",
    "    new_text = remove_extra_spaces(new_text)  # Remove extra spaces\n",
    "\n",
    "    return new_text\n",
    "\n"
   ]
  },
  {
   "cell_type": "code",
   "execution_count": 14,
   "metadata": {},
   "outputs": [
    {
     "data": {
      "text/html": [
       "<div>\n",
       "<style scoped>\n",
       "    .dataframe tbody tr th:only-of-type {\n",
       "        vertical-align: middle;\n",
       "    }\n",
       "\n",
       "    .dataframe tbody tr th {\n",
       "        vertical-align: top;\n",
       "    }\n",
       "\n",
       "    .dataframe thead th {\n",
       "        text-align: right;\n",
       "    }\n",
       "</style>\n",
       "<table border=\"1\" class=\"dataframe\">\n",
       "  <thead>\n",
       "    <tr style=\"text-align: right;\">\n",
       "      <th></th>\n",
       "      <th>Reviews</th>\n",
       "    </tr>\n",
       "  </thead>\n",
       "  <tbody>\n",
       "    <tr>\n",
       "      <th>0</th>\n",
       "      <td>كان لي تجربه اكثر من راءعه اليوم في هذا الفرع ...</td>\n",
       "    </tr>\n",
       "    <tr>\n",
       "      <th>1</th>\n",
       "      <td>اسوء خدمه شركه اتصالات علي المستوي العربي كله ...</td>\n",
       "    </tr>\n",
       "    <tr>\n",
       "      <th>2</th>\n",
       "      <td>اشكر الموظفه ضيء علي تعاملها ورقيها وخدمتها لي...</td>\n",
       "    </tr>\n",
       "    <tr>\n",
       "      <th>3</th>\n",
       "      <td>اسوا نت في العالم عانيت مليون مرررررا منهم رفع...</td>\n",
       "    </tr>\n",
       "    <tr>\n",
       "      <th>4</th>\n",
       "      <td>الفرع جدا ممتاز واشكر الاخوات الموظفات علي رحا...</td>\n",
       "    </tr>\n",
       "    <tr>\n",
       "      <th>...</th>\n",
       "      <td>...</td>\n",
       "    </tr>\n",
       "    <tr>\n",
       "      <th>452</th>\n",
       "      <td>قويه</td>\n",
       "    </tr>\n",
       "    <tr>\n",
       "      <th>453</th>\n",
       "      <td>انترنت لا محدود سرعه ميقا زين السعوديه</td>\n",
       "    </tr>\n",
       "    <tr>\n",
       "      <th>455</th>\n",
       "      <td>انترنت لا محدود سرعه ميقا زين السعوديه</td>\n",
       "    </tr>\n",
       "    <tr>\n",
       "      <th>456</th>\n",
       "      <td>سرعه عاليه ميجا ال زين يارب وماخاب من قال يارب</td>\n",
       "    </tr>\n",
       "    <tr>\n",
       "      <th>458</th>\n",
       "      <td>كيف اشترك فيها لان ما تطلع لي بالتطبيق الا اذا...</td>\n",
       "    </tr>\n",
       "  </tbody>\n",
       "</table>\n",
       "<p>393 rows × 1 columns</p>\n",
       "</div>"
      ],
      "text/plain": [
       "                                               Reviews\n",
       "0    كان لي تجربه اكثر من راءعه اليوم في هذا الفرع ...\n",
       "1    اسوء خدمه شركه اتصالات علي المستوي العربي كله ...\n",
       "2    اشكر الموظفه ضيء علي تعاملها ورقيها وخدمتها لي...\n",
       "3    اسوا نت في العالم عانيت مليون مرررررا منهم رفع...\n",
       "4    الفرع جدا ممتاز واشكر الاخوات الموظفات علي رحا...\n",
       "..                                                 ...\n",
       "452                                               قويه\n",
       "453             انترنت لا محدود سرعه ميقا زين السعوديه\n",
       "455             انترنت لا محدود سرعه ميقا زين السعوديه\n",
       "456     سرعه عاليه ميجا ال زين يارب وماخاب من قال يارب\n",
       "458  كيف اشترك فيها لان ما تطلع لي بالتطبيق الا اذا...\n",
       "\n",
       "[393 rows x 1 columns]"
      ]
     },
     "execution_count": 14,
     "metadata": {},
     "output_type": "execute_result"
    }
   ],
   "source": [
    "df"
   ]
  },
  {
   "cell_type": "code",
   "execution_count": 15,
   "metadata": {},
   "outputs": [
    {
     "data": {
      "text/plain": [
       "6"
      ]
     },
     "execution_count": 15,
     "metadata": {},
     "output_type": "execute_result"
    }
   ],
   "source": [
    "count_duplicates(df)"
   ]
  },
  {
   "cell_type": "code",
   "execution_count": 16,
   "metadata": {},
   "outputs": [],
   "source": [
    "remove_duplicates(df, inplace=True)"
   ]
  },
  {
   "cell_type": "code",
   "execution_count": 17,
   "metadata": {},
   "outputs": [
    {
     "data": {
      "text/plain": [
       "0"
      ]
     },
     "execution_count": 17,
     "metadata": {},
     "output_type": "execute_result"
    }
   ],
   "source": [
    "count_duplicates(df)"
   ]
  },
  {
   "cell_type": "markdown",
   "metadata": {},
   "source": [
    "## Sentiment Analysis"
   ]
  },
  {
   "cell_type": "code",
   "execution_count": 18,
   "metadata": {},
   "outputs": [
    {
     "name": "stderr",
     "output_type": "stream",
     "text": [
      "/Users/shahadaleissa/Downloads/Data Mining Project/.conda/lib/python3.11/site-packages/tqdm/auto.py:21: TqdmWarning: IProgress not found. Please update jupyter and ipywidgets. See https://ipywidgets.readthedocs.io/en/stable/user_install.html\n",
      "  from .autonotebook import tqdm as notebook_tqdm\n"
     ]
    },
    {
     "name": "stdout",
     "output_type": "stream",
     "text": [
      "                                               Reviews sentiment\n",
      "0    كان لي تجربه اكثر من راءعه اليوم في هذا الفرع ...  positive\n",
      "1    اسوء خدمه شركه اتصالات علي المستوي العربي كله ...  negative\n",
      "2    اشكر الموظفه ضيء علي تعاملها ورقيها وخدمتها لي...  positive\n",
      "3    اسوا نت في العالم عانيت مليون مرررررا منهم رفع...  negative\n",
      "4    الفرع جدا ممتاز واشكر الاخوات الموظفات علي رحا...  positive\n",
      "..                                                 ...       ...\n",
      "450  التذكره ايش صار عليها محد فيكم تكرم تواصل معي ...   neutral\n",
      "452                                               قويه  positive\n",
      "453             انترنت لا محدود سرعه ميقا زين السعوديه  positive\n",
      "456     سرعه عاليه ميجا ال زين يارب وماخاب من قال يارب  positive\n",
      "458  كيف اشترك فيها لان ما تطلع لي بالتطبيق الا اذا...   neutral\n",
      "\n",
      "[387 rows x 2 columns]\n"
     ]
    }
   ],
   "source": [
    "from transformers import AutoTokenizer, AutoModelForSequenceClassification\n",
    "from transformers import pipeline\n",
    "\n",
    "model_name = \"CAMeL-Lab/bert-base-arabic-camelbert-da-sentiment\"  # Replace with the specific model you find\n",
    "tokenizer = AutoTokenizer.from_pretrained(model_name)\n",
    "model = AutoModelForSequenceClassification.from_pretrained(model_name)\n",
    "\n",
    "nlp = pipeline(\"sentiment-analysis\", model=model, tokenizer=tokenizer)\n",
    "\n",
    "# Function to apply sentiment analysis\n",
    "def analyze_sentiment(text):\n",
    "    result = nlp(text)\n",
    "    return result[0]['label']\n",
    "\n",
    "# Apply the function to your DataFrame\n",
    "df['sentiment'] = df['Reviews'].apply(analyze_sentiment)\n",
    "\n",
    "# Now `df` has an additional column `sentiment` with the analysis result\n",
    "print(df)"
   ]
  },
  {
   "cell_type": "code",
   "execution_count": 52,
   "metadata": {},
   "outputs": [],
   "source": [
    "df.dropna(inplace=True)"
   ]
  },
  {
   "cell_type": "code",
   "execution_count": 53,
   "metadata": {},
   "outputs": [
    {
     "data": {
      "text/plain": [
       "Reviews      0\n",
       "sentiment    0\n",
       "dtype: int64"
      ]
     },
     "execution_count": 53,
     "metadata": {},
     "output_type": "execute_result"
    }
   ],
   "source": [
    "df.isna().sum()"
   ]
  },
  {
   "cell_type": "code",
   "execution_count": 54,
   "metadata": {},
   "outputs": [],
   "source": [
    "df.to_csv('cleaned_dataset.csv', index=False)"
   ]
  },
  {
   "cell_type": "markdown",
   "metadata": {},
   "source": [
    "#### we manually removed not needed rows for better utlization of data and hence why it's imported again"
   ]
  },
  {
   "cell_type": "code",
   "execution_count": 3,
   "metadata": {},
   "outputs": [],
   "source": [
    "# after manual cleaning\n",
    "df=pd.read_csv('cleaned_dataset.csv')"
   ]
  },
  {
   "cell_type": "markdown",
   "metadata": {},
   "source": [
    "## Visualization"
   ]
  },
  {
   "cell_type": "code",
   "execution_count": 4,
   "metadata": {},
   "outputs": [
    {
     "data": {
      "text/html": [
       "<div>\n",
       "<style scoped>\n",
       "    .dataframe tbody tr th:only-of-type {\n",
       "        vertical-align: middle;\n",
       "    }\n",
       "\n",
       "    .dataframe tbody tr th {\n",
       "        vertical-align: top;\n",
       "    }\n",
       "\n",
       "    .dataframe thead th {\n",
       "        text-align: right;\n",
       "    }\n",
       "</style>\n",
       "<table border=\"1\" class=\"dataframe\">\n",
       "  <thead>\n",
       "    <tr style=\"text-align: right;\">\n",
       "      <th></th>\n",
       "      <th>Reviews</th>\n",
       "      <th>sentiment</th>\n",
       "    </tr>\n",
       "  </thead>\n",
       "  <tbody>\n",
       "    <tr>\n",
       "      <th>count</th>\n",
       "      <td>362</td>\n",
       "      <td>362</td>\n",
       "    </tr>\n",
       "    <tr>\n",
       "      <th>unique</th>\n",
       "      <td>362</td>\n",
       "      <td>3</td>\n",
       "    </tr>\n",
       "    <tr>\n",
       "      <th>top</th>\n",
       "      <td>كان لي تجربه اكثر من راءعه اليوم في هذا الفرع ...</td>\n",
       "      <td>negative</td>\n",
       "    </tr>\n",
       "    <tr>\n",
       "      <th>freq</th>\n",
       "      <td>1</td>\n",
       "      <td>155</td>\n",
       "    </tr>\n",
       "  </tbody>\n",
       "</table>\n",
       "</div>"
      ],
      "text/plain": [
       "                                                  Reviews sentiment\n",
       "count                                                 362       362\n",
       "unique                                                362         3\n",
       "top     كان لي تجربه اكثر من راءعه اليوم في هذا الفرع ...  negative\n",
       "freq                                                    1       155"
      ]
     },
     "execution_count": 4,
     "metadata": {},
     "output_type": "execute_result"
    }
   ],
   "source": [
    "df.describe()"
   ]
  },
  {
   "cell_type": "code",
   "execution_count": 5,
   "metadata": {},
   "outputs": [
    {
     "data": {
      "text/plain": [
       "<Axes: xlabel='sentiment', ylabel='count'>"
      ]
     },
     "execution_count": 5,
     "metadata": {},
     "output_type": "execute_result"
    },
    {
     "data": {
      "image/png": "[encoded data removed]",
      "text/plain": [
       "<Figure size 640x480 with 1 Axes>"
      ]
     },
     "metadata": {},
     "output_type": "display_data"
    }
   ],
   "source": [
    "#create a plot to view the distribution of the sentiment\n",
    "sns.countplot(x='sentiment', data=df)"
   ]
  },
  {
   "cell_type": "markdown",
   "metadata": {},
   "source": [
    "### Tokenization to view word frequency "
   ]
  },
  {
   "cell_type": "code",
   "execution_count": 6,
   "metadata": {},
   "outputs": [
    {
     "data": {
      "text/html": [
       "<div>\n",
       "<style scoped>\n",
       "    .dataframe tbody tr th:only-of-type {\n",
       "        vertical-align: middle;\n",
       "    }\n",
       "\n",
       "    .dataframe tbody tr th {\n",
       "        vertical-align: top;\n",
       "    }\n",
       "\n",
       "    .dataframe thead th {\n",
       "        text-align: right;\n",
       "    }\n",
       "</style>\n",
       "<table border=\"1\" class=\"dataframe\">\n",
       "  <thead>\n",
       "    <tr style=\"text-align: right;\">\n",
       "      <th></th>\n",
       "      <th>Reviews</th>\n",
       "      <th>sentiment</th>\n",
       "    </tr>\n",
       "  </thead>\n",
       "  <tbody>\n",
       "    <tr>\n",
       "      <th>0</th>\n",
       "      <td>[تجربه, اكثر, راءعه, اليوم, الفرع, الخدمه, الم...</td>\n",
       "      <td>positive</td>\n",
       "    </tr>\n",
       "    <tr>\n",
       "      <th>1</th>\n",
       "      <td>[اسوء, خدمه, شركه, اتصالات, المستوي, العربي, ك...</td>\n",
       "      <td>negative</td>\n",
       "    </tr>\n",
       "    <tr>\n",
       "      <th>2</th>\n",
       "      <td>[اشكر, الموظفه, ضيء, تعاملها, ورقيها, وخدمتها,...</td>\n",
       "      <td>positive</td>\n",
       "    </tr>\n",
       "    <tr>\n",
       "      <th>3</th>\n",
       "      <td>[اسوا, العالم, عانيت, مليون, مرررررا, منهم, رف...</td>\n",
       "      <td>negative</td>\n",
       "    </tr>\n",
       "    <tr>\n",
       "      <th>4</th>\n",
       "      <td>[الفرع, جدا, ممتاز, واشكر, الاخوات, الموظفات, ...</td>\n",
       "      <td>positive</td>\n",
       "    </tr>\n",
       "    <tr>\n",
       "      <th>...</th>\n",
       "      <td>...</td>\n",
       "      <td>...</td>\n",
       "    </tr>\n",
       "    <tr>\n",
       "      <th>357</th>\n",
       "      <td>[التذكره, ايش, عليها, محد, فيكم, تكرم, تواصل, ...</td>\n",
       "      <td>neutral</td>\n",
       "    </tr>\n",
       "    <tr>\n",
       "      <th>358</th>\n",
       "      <td>[قويه]</td>\n",
       "      <td>positive</td>\n",
       "    </tr>\n",
       "    <tr>\n",
       "      <th>359</th>\n",
       "      <td>[انترنت, محدود, سرعه, ميقا, زين, السعوديه]</td>\n",
       "      <td>positive</td>\n",
       "    </tr>\n",
       "    <tr>\n",
       "      <th>360</th>\n",
       "      <td>[سرعه, عاليه, ميجا, زين, يارب, وماخاب, قال, يارب]</td>\n",
       "      <td>positive</td>\n",
       "    </tr>\n",
       "    <tr>\n",
       "      <th>361</th>\n",
       "      <td>[اشترك, تطلع, بالتطبيق, الا, باخذ, رقم, جديد, ...</td>\n",
       "      <td>neutral</td>\n",
       "    </tr>\n",
       "  </tbody>\n",
       "</table>\n",
       "<p>362 rows × 2 columns</p>\n",
       "</div>"
      ],
      "text/plain": [
       "                                               Reviews sentiment\n",
       "0    [تجربه, اكثر, راءعه, اليوم, الفرع, الخدمه, الم...  positive\n",
       "1    [اسوء, خدمه, شركه, اتصالات, المستوي, العربي, ك...  negative\n",
       "2    [اشكر, الموظفه, ضيء, تعاملها, ورقيها, وخدمتها,...  positive\n",
       "3    [اسوا, العالم, عانيت, مليون, مرررررا, منهم, رف...  negative\n",
       "4    [الفرع, جدا, ممتاز, واشكر, الاخوات, الموظفات, ...  positive\n",
       "..                                                 ...       ...\n",
       "357  [التذكره, ايش, عليها, محد, فيكم, تكرم, تواصل, ...   neutral\n",
       "358                                             [قويه]  positive\n",
       "359         [انترنت, محدود, سرعه, ميقا, زين, السعوديه]  positive\n",
       "360  [سرعه, عاليه, ميجا, زين, يارب, وماخاب, قال, يارب]  positive\n",
       "361  [اشترك, تطلع, بالتطبيق, الا, باخذ, رقم, جديد, ...   neutral\n",
       "\n",
       "[362 rows x 2 columns]"
      ]
     },
     "execution_count": 6,
     "metadata": {},
     "output_type": "execute_result"
    }
   ],
   "source": [
    "df_for_tokenization = df.copy()\n",
    "tokenizer = RegexpTokenizer(r'\\w+')\n",
    "df_for_tokenization[\"Reviews\"] = df_for_tokenization[\"Reviews\"].apply(tokenizer.tokenize)\n",
    "stopwords_list = stopwords.words('arabic')\n",
    "listToStr = ' '.join([str(elem) for elem in stopwords_list])\n",
    "df_for_tokenization[\"Reviews\"] = df_for_tokenization[\"Reviews\"].apply(lambda x: [item for item in x if item not in listToStr])\n",
    "df_for_tokenization"
   ]
  },
  {
   "cell_type": "code",
   "execution_count": 28,
   "metadata": {},
   "outputs": [],
   "source": [
    "import matplotlib.pyplot as plt\n",
    "from collections import Counter\n",
    "import arabic_reshaper\n",
    "from bidi.algorithm import get_display\n",
    "\n",
    "def get_most_common_words_by_class(df, n=10):\n",
    "    \"\"\"Get the most common words for each class.\"\"\"\n",
    "    classes = df['sentiment'].unique()\n",
    "    common_words = {}\n",
    "    \n",
    "    for cls in classes:\n",
    "        words = [word for sublist in df[df['sentiment'] == cls]['Reviews'] for word in sublist]\n",
    "        most_common = Counter(words).most_common(n)\n",
    "        common_words[cls] = most_common\n",
    "        \n",
    "    return common_words\n",
    "\n",
    "def plot_most_common_words(common_words):\n",
    "    \"\"\"Plot the most common words for each class, applying Arabic reshaping.\"\"\"\n",
    "    # Create a figure with subplots\n",
    "    fig, axes = plt.subplots(len(common_words), 1, figsize=(10, 15), squeeze=False)  # Ensure axes is always 2D\n",
    "    fig.tight_layout(pad=8.0)\n",
    "    \n",
    "    for i, (cls, words) in enumerate(common_words.items()):\n",
    "        words, frequencies = zip(*words)\n",
    "        # Reshape words for correct Arabic rendering\n",
    "        reshaped_words = [get_display(arabic_reshaper.reshape(word)) for word in words]\n",
    "        \n",
    "        ax = sns.barplot(x=list(frequencies), y=reshaped_words, ax=axes[i, 0])\n",
    "        ax.set_title(f'Most Common Words in {get_display(arabic_reshaper.reshape(cls))}', fontsize=16)\n",
    "\n",
    "        # Set font for both title and y-tick labels to 'Al Bayan'\n",
    "        ax.title.set_fontname('sans')\n",
    "        for label in ax.get_yticklabels():\n",
    "            label.set_fontname('SF Arabic')\n",
    "        \n",
    "    plt.show()"
   ]
  },
  {
   "cell_type": "code",
   "execution_count": 30,
   "metadata": {},
   "outputs": [
    {
     "name": "stderr",
     "output_type": "stream",
     "text": [
      "/Users/shahadaleissa/Downloads/Data Mining Project/.conda/lib/python3.11/site-packages/IPython/core/pylabtools.py:152: UserWarning: Glyph 108 (l) missing from current font.\n",
      "  fig.canvas.print_figure(bytes_io, **kw)\n",
      "/Users/shahadaleissa/Downloads/Data Mining Project/.conda/lib/python3.11/site-packages/IPython/core/pylabtools.py:152: UserWarning: Glyph 112 (p) missing from current font.\n",
      "  fig.canvas.print_figure(bytes_io, **kw)\n",
      "/Users/shahadaleissa/Downloads/Data Mining Project/.conda/lib/python3.11/site-packages/IPython/core/pylabtools.py:152: UserWarning: Glyph 65257 (\\N{ARABIC LETTER HEH ISOLATED FORM}) missing from current font.\n",
      "  fig.canvas.print_figure(bytes_io, **kw)\n"
     ]
    },
    {
     "data": {
      "image/png": "[encoded data removed]",
      "text/plain": [
       "<Figure size 1000x1500 with 3 Axes>"
      ]
     },
     "metadata": {},
     "output_type": "display_data"
    }
   ],
   "source": [
    "# Get the most common words by class\n",
    "common_words = get_most_common_words_by_class(df_for_tokenization, n=10)  # Adjust n as needed\n",
    "\n",
    "# Plot the most common words\n",
    "plot_most_common_words(common_words)"
   ]
  },
  {
   "cell_type": "code",
   "execution_count": 31,
   "metadata": {},
   "outputs": [
    {
     "data": {
      "text/plain": [
       "<Axes: xlabel='sentiment', ylabel='Reviews_length'>"
      ]
     },
     "execution_count": 31,
     "metadata": {},
     "output_type": "execute_result"
    },
    {
     "data": {
      "image/png": "[encoded data removed]",
      "text/plain": [
       "<Figure size 640x480 with 1 Axes>"
      ]
     },
     "metadata": {},
     "output_type": "display_data"
    }
   ],
   "source": [
    "#boxplot to view the distribution of the length of the reviews\n",
    "df['Reviews_length'] = df['Reviews'].apply(len)\n",
    "sns.boxplot(x='sentiment', y='Reviews_length', data=df)"
   ]
  }
 ],
 "metadata": {
  "kernelspec": {
   "display_name": "Python 3",
   "language": "python",
   "name": "python3"
  },
  "language_info": {
   "codemirror_mode": {
    "name": "ipython",
    "version": 3
   },
   "file_extension": ".py",
   "mimetype": "text/x-python",
   "name": "python",
   "nbconvert_exporter": "python",
   "pygments_lexer": "ipython3",
   "version": "3.11.8"
  }
 },
 "nbformat": 4,
 "nbformat_minor": 2
}
