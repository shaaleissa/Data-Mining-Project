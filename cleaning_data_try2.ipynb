{
 "cells": [
  {
   "cell_type": "code",
   "execution_count": 1,
   "metadata": {},
   "outputs": [],
   "source": [
    "import pandas as pd\n",
    "import numpy as np\n",
    "import seaborn as sns\n",
    "from nltk.tokenize import word_tokenize\n",
    "from nltk.tokenize import RegexpTokenizer\n",
    "from nltk.corpus import stopwords\n",
    "import nltk"
   ]
  },
  {
   "cell_type": "code",
   "execution_count": 2,
   "metadata": {},
   "outputs": [
    {
     "name": "stderr",
     "output_type": "stream",
     "text": [
      "[nltk_data] Downloading package punkt to\n",
      "[nltk_data]     C:\\Users\\Admin\\AppData\\Roaming\\nltk_data...\n",
      "[nltk_data]   Package punkt is already up-to-date!\n"
     ]
    },
    {
     "data": {
      "text/plain": [
       "True"
      ]
     },
     "execution_count": 2,
     "metadata": {},
     "output_type": "execute_result"
    }
   ],
   "source": [
    "nltk.download('punkt')"
   ]
  },
  {
   "cell_type": "code",
   "execution_count": 3,
   "metadata": {},
   "outputs": [
    {
     "data": {
      "text/html": [
       "<div>\n",
       "<style scoped>\n",
       "    .dataframe tbody tr th:only-of-type {\n",
       "        vertical-align: middle;\n",
       "    }\n",
       "\n",
       "    .dataframe tbody tr th {\n",
       "        vertical-align: top;\n",
       "    }\n",
       "\n",
       "    .dataframe thead th {\n",
       "        text-align: right;\n",
       "    }\n",
       "</style>\n",
       "<table border=\"1\" class=\"dataframe\">\n",
       "  <thead>\n",
       "    <tr style=\"text-align: right;\">\n",
       "      <th></th>\n",
       "      <th>Reviews</th>\n",
       "    </tr>\n",
       "  </thead>\n",
       "  <tbody>\n",
       "    <tr>\n",
       "      <th>0</th>\n",
       "      <td>كان لي تجربه اكثر من رائعة اليوم في هذا الفرع ...</td>\n",
       "    </tr>\n",
       "    <tr>\n",
       "      <th>1</th>\n",
       "      <td>اسوء خدمة شركة اتصالات على المستوى العربي كله ...</td>\n",
       "    </tr>\n",
       "    <tr>\n",
       "      <th>2</th>\n",
       "      <td>اشكر الموظفة ضيء على تعاملها ورقيها وخدمتها لي...</td>\n",
       "    </tr>\n",
       "    <tr>\n",
       "      <th>3</th>\n",
       "      <td>اسوأ نت في العالم عانيت مليون مرررررا منهم رفع...</td>\n",
       "    </tr>\n",
       "    <tr>\n",
       "      <th>4</th>\n",
       "      <td>الفرع جداً ممتاز وأشكر الأخوات الموظفات على رح...</td>\n",
       "    </tr>\n",
       "    <tr>\n",
       "      <th>...</th>\n",
       "      <td>...</td>\n",
       "    </tr>\n",
       "    <tr>\n",
       "      <th>454</th>\n",
       "      <td>إنترنت لا محدود / سرعة 200 ميقا    .  . . .  #...</td>\n",
       "    </tr>\n",
       "    <tr>\n",
       "      <th>455</th>\n",
       "      <td>إنترنت لا محدود / سرعة 200 ميقا    .  . . .  #...</td>\n",
       "    </tr>\n",
       "    <tr>\n",
       "      <th>456</th>\n",
       "      <td>سرعة عالية 200ميجا . . . . . . . . . . 🤍💚  #ال...</td>\n",
       "    </tr>\n",
       "    <tr>\n",
       "      <th>457</th>\n",
       "      <td>سرعة عالية 200ميجا . . . . . . . . . . 🤍💚  #ال...</td>\n",
       "    </tr>\n",
       "    <tr>\n",
       "      <th>458</th>\n",
       "      <td>كيف اشترك فيها ؟ لان ما تطلع  لي بالتطبيق الا ...</td>\n",
       "    </tr>\n",
       "  </tbody>\n",
       "</table>\n",
       "<p>459 rows × 1 columns</p>\n",
       "</div>"
      ],
      "text/plain": [
       "                                               Reviews\n",
       "0    كان لي تجربه اكثر من رائعة اليوم في هذا الفرع ...\n",
       "1    اسوء خدمة شركة اتصالات على المستوى العربي كله ...\n",
       "2    اشكر الموظفة ضيء على تعاملها ورقيها وخدمتها لي...\n",
       "3    اسوأ نت في العالم عانيت مليون مرررررا منهم رفع...\n",
       "4    الفرع جداً ممتاز وأشكر الأخوات الموظفات على رح...\n",
       "..                                                 ...\n",
       "454  إنترنت لا محدود / سرعة 200 ميقا    .  . . .  #...\n",
       "455  إنترنت لا محدود / سرعة 200 ميقا    .  . . .  #...\n",
       "456  سرعة عالية 200ميجا . . . . . . . . . . 🤍💚  #ال...\n",
       "457  سرعة عالية 200ميجا . . . . . . . . . . 🤍💚  #ال...\n",
       "458  كيف اشترك فيها ؟ لان ما تطلع  لي بالتطبيق الا ...\n",
       "\n",
       "[459 rows x 1 columns]"
      ]
     },
     "execution_count": 3,
     "metadata": {},
     "output_type": "execute_result"
    }
   ],
   "source": [
    "df= pd.read_csv('combined_dataset.csv')\n",
    "df"
   ]
  },
  {
   "cell_type": "code",
   "execution_count": 4,
   "metadata": {},
   "outputs": [],
   "source": [
    "def count_duplicates(df):\n",
    "    \"\"\"\n",
    "    Counts the number of duplicate rows in the given DataFrame.\n",
    "\n",
    "    Parameters:\n",
    "    df (pd.DataFrame): The DataFrame in which to find duplicates.\n",
    "\n",
    "    Returns:\n",
    "    int: The number of duplicate rows in the DataFrame.\n",
    "    \"\"\"\n",
    "    # Count duplicate rows, excluding the first occurrence\n",
    "    duplicates_count = df.duplicated(keep='first').sum()\n",
    "    return duplicates_count"
   ]
  },
  {
   "cell_type": "code",
   "execution_count": 5,
   "metadata": {},
   "outputs": [
    {
     "data": {
      "text/plain": [
       "65"
      ]
     },
     "execution_count": 5,
     "metadata": {},
     "output_type": "execute_result"
    }
   ],
   "source": [
    "count_duplicates(df)"
   ]
  },
  {
   "cell_type": "code",
   "execution_count": 6,
   "metadata": {},
   "outputs": [],
   "source": [
    "def remove_duplicates(df, subset=None, keep='first', inplace=False):\n",
    "    \"\"\"\n",
    "    Removes duplicate rows from the given DataFrame.\n",
    "\n",
    "    Parameters:\n",
    "    df (pd.DataFrame): The DataFrame from which to remove duplicates.\n",
    "    subset (list of str, optional): Column labels to consider for identifying duplicates. \n",
    "                                    If None, consider all columns.\n",
    "    keep ({'first', 'last', False}, default 'first'): Determines which duplicates (if any) to keep.\n",
    "                                                      - 'first': Drop duplicates except for the first occurrence.\n",
    "                                                      - 'last': Drop duplicates except for the last occurrence.\n",
    "                                                      - False: Drop all duplicates.\n",
    "    inplace (bool, default False): Whether to drop duplicates in place or to return a copy.\n",
    "\n",
    "    Returns:\n",
    "    pd.DataFrame or None: A new DataFrame with duplicates removed, if inplace=False. \n",
    "                          None if inplace=True.\n",
    "    \"\"\"\n",
    "    if inplace:\n",
    "        df.drop_duplicates(subset=subset, keep=keep, inplace=True)\n",
    "    else:\n",
    "        return df.drop_duplicates(subset=subset, keep=keep)"
   ]
  },
  {
   "cell_type": "code",
   "execution_count": 7,
   "metadata": {},
   "outputs": [],
   "source": [
    "remove_duplicates(df, inplace=True)"
   ]
  },
  {
   "cell_type": "code",
   "execution_count": 8,
   "metadata": {},
   "outputs": [
    {
     "data": {
      "text/plain": [
       "0"
      ]
     },
     "execution_count": 8,
     "metadata": {},
     "output_type": "execute_result"
    }
   ],
   "source": [
    "count_duplicates(df)"
   ]
  },
  {
   "cell_type": "code",
   "execution_count": 9,
   "metadata": {},
   "outputs": [
    {
     "data": {
      "text/plain": [
       "Reviews    1\n",
       "dtype: int64"
      ]
     },
     "execution_count": 9,
     "metadata": {},
     "output_type": "execute_result"
    }
   ],
   "source": [
    "df.isna().sum()"
   ]
  },
  {
   "cell_type": "code",
   "execution_count": 10,
   "metadata": {},
   "outputs": [],
   "source": [
    "df.dropna(inplace=True)"
   ]
  },
  {
   "cell_type": "code",
   "execution_count": 11,
   "metadata": {},
   "outputs": [
    {
     "data": {
      "text/plain": [
       "Reviews    0\n",
       "dtype: int64"
      ]
     },
     "execution_count": 11,
     "metadata": {},
     "output_type": "execute_result"
    }
   ],
   "source": [
    "df.isna().sum()"
   ]
  },
  {
   "cell_type": "markdown",
   "metadata": {},
   "source": [
    "## using aranorm for arabic text processing"
   ]
  },
  {
   "cell_type": "code",
   "execution_count": 12,
   "metadata": {},
   "outputs": [],
   "source": [
    "import aranorm"
   ]
  },
  {
   "cell_type": "code",
   "execution_count": 13,
   "metadata": {},
   "outputs": [],
   "source": [
    "df['Reviews']=df['Reviews'].apply(aranorm.normalize_tweet)"
   ]
  },
  {
   "cell_type": "markdown",
   "metadata": {},
   "source": [
    "The following is an explanation of what `aranorm.normalize_tweet` does:\n",
    "\n",
    "```python\n",
    "def normalize_tweet(text):\n",
    "    new_text = text.lower()  # Convert text to lowercase\n",
    "    new_text = normalize_hamza(new_text)  # Normalize hamza variations\n",
    "    new_text = strip_tashkeel(new_text)  # Strip Arabic diacritics\n",
    "    new_text = strip_tatweel(new_text)  # Strip tatweel (kashida)\n",
    "    new_text = normalize_lamalef(new_text)  # Normalize Lam-Alef variations\n",
    "    new_text = normalize_spellerrors(new_text)  # Normalize common spelling errors\n",
    "    new_text = remove_retweet_tag(new_text)  # Remove retweet tags\n",
    "    new_text = replace_emails(new_text)  # Replace email addresses\n",
    "    new_text = remove_underscore(new_text)  # Remove underscores\n",
    "    new_text = replace_phone_numbers(new_text)  # Replace phone numbers\n",
    "    new_text = remove_all_punctuations(new_text)  # Remove all punctuation\n",
    "    new_text = replace_urls(new_text)  # Replace URLs\n",
    "    new_text = convert_eastern_to_western_numerals(new_text)  # Convert Eastern Arabic numerals to Western\n",
    "    new_text = remove_non_arabic(new_text)  # Remove non-Arabic characters\n",
    "    new_text = remove_extra_spaces(new_text)  # Remove extra spaces\n",
    "\n",
    "    return new_text\n",
    "\n"
   ]
  },
  {
   "cell_type": "code",
   "execution_count": 14,
   "metadata": {},
   "outputs": [
    {
     "data": {
      "text/html": [
       "<div>\n",
       "<style scoped>\n",
       "    .dataframe tbody tr th:only-of-type {\n",
       "        vertical-align: middle;\n",
       "    }\n",
       "\n",
       "    .dataframe tbody tr th {\n",
       "        vertical-align: top;\n",
       "    }\n",
       "\n",
       "    .dataframe thead th {\n",
       "        text-align: right;\n",
       "    }\n",
       "</style>\n",
       "<table border=\"1\" class=\"dataframe\">\n",
       "  <thead>\n",
       "    <tr style=\"text-align: right;\">\n",
       "      <th></th>\n",
       "      <th>Reviews</th>\n",
       "    </tr>\n",
       "  </thead>\n",
       "  <tbody>\n",
       "    <tr>\n",
       "      <th>0</th>\n",
       "      <td>كان لي تجربه اكثر من راءعه اليوم في هذا الفرع ...</td>\n",
       "    </tr>\n",
       "    <tr>\n",
       "      <th>1</th>\n",
       "      <td>اسوء خدمه شركه اتصالات علي المستوي العربي كله ...</td>\n",
       "    </tr>\n",
       "    <tr>\n",
       "      <th>2</th>\n",
       "      <td>اشكر الموظفه ضيء علي تعاملها ورقيها وخدمتها لي...</td>\n",
       "    </tr>\n",
       "    <tr>\n",
       "      <th>3</th>\n",
       "      <td>اسوا نت في العالم عانيت مليون مرررررا منهم رفع...</td>\n",
       "    </tr>\n",
       "    <tr>\n",
       "      <th>4</th>\n",
       "      <td>الفرع جدا ممتاز واشكر الاخوات الموظفات علي رحا...</td>\n",
       "    </tr>\n",
       "    <tr>\n",
       "      <th>...</th>\n",
       "      <td>...</td>\n",
       "    </tr>\n",
       "    <tr>\n",
       "      <th>452</th>\n",
       "      <td>قويه</td>\n",
       "    </tr>\n",
       "    <tr>\n",
       "      <th>453</th>\n",
       "      <td>انترنت لا محدود سرعه ميقا زين السعوديه</td>\n",
       "    </tr>\n",
       "    <tr>\n",
       "      <th>455</th>\n",
       "      <td>انترنت لا محدود سرعه ميقا زين السعوديه</td>\n",
       "    </tr>\n",
       "    <tr>\n",
       "      <th>456</th>\n",
       "      <td>سرعه عاليه ميجا ال زين يارب وماخاب من قال يارب</td>\n",
       "    </tr>\n",
       "    <tr>\n",
       "      <th>458</th>\n",
       "      <td>كيف اشترك فيها لان ما تطلع لي بالتطبيق الا اذا...</td>\n",
       "    </tr>\n",
       "  </tbody>\n",
       "</table>\n",
       "<p>393 rows × 1 columns</p>\n",
       "</div>"
      ],
      "text/plain": [
       "                                               Reviews\n",
       "0    كان لي تجربه اكثر من راءعه اليوم في هذا الفرع ...\n",
       "1    اسوء خدمه شركه اتصالات علي المستوي العربي كله ...\n",
       "2    اشكر الموظفه ضيء علي تعاملها ورقيها وخدمتها لي...\n",
       "3    اسوا نت في العالم عانيت مليون مرررررا منهم رفع...\n",
       "4    الفرع جدا ممتاز واشكر الاخوات الموظفات علي رحا...\n",
       "..                                                 ...\n",
       "452                                               قويه\n",
       "453             انترنت لا محدود سرعه ميقا زين السعوديه\n",
       "455             انترنت لا محدود سرعه ميقا زين السعوديه\n",
       "456     سرعه عاليه ميجا ال زين يارب وماخاب من قال يارب\n",
       "458  كيف اشترك فيها لان ما تطلع لي بالتطبيق الا اذا...\n",
       "\n",
       "[393 rows x 1 columns]"
      ]
     },
     "execution_count": 14,
     "metadata": {},
     "output_type": "execute_result"
    }
   ],
   "source": [
    "df"
   ]
  },
  {
   "cell_type": "code",
   "execution_count": 15,
   "metadata": {},
   "outputs": [
    {
     "data": {
      "text/plain": [
       "6"
      ]
     },
     "execution_count": 15,
     "metadata": {},
     "output_type": "execute_result"
    }
   ],
   "source": [
    "count_duplicates(df)"
   ]
  },
  {
   "cell_type": "code",
   "execution_count": 16,
   "metadata": {},
   "outputs": [],
   "source": [
    "remove_duplicates(df, inplace=True)"
   ]
  },
  {
   "cell_type": "code",
   "execution_count": 17,
   "metadata": {},
   "outputs": [
    {
     "data": {
      "text/plain": [
       "0"
      ]
     },
     "execution_count": 17,
     "metadata": {},
     "output_type": "execute_result"
    }
   ],
   "source": [
    "count_duplicates(df)"
   ]
  },
  {
   "cell_type": "code",
   "execution_count": 18,
   "metadata": {},
   "outputs": [],
   "source": [
    "df.to_csv('afterPP_dataset.csv', index=False)"
   ]
  },
  {
   "cell_type": "markdown",
   "metadata": {},
   "source": [
    "## Sentiment Analysis Using Tranformer"
   ]
  },
  {
   "cell_type": "code",
   "execution_count": 19,
   "metadata": {},
   "outputs": [
    {
     "name": "stdout",
     "output_type": "stream",
     "text": [
      "                                               Reviews sentiment\n",
      "0    كان لي تجربه اكثر من راءعه اليوم في هذا الفرع ...  positive\n",
      "1    اسوء خدمه شركه اتصالات علي المستوي العربي كله ...  negative\n",
      "2    اشكر الموظفه ضيء علي تعاملها ورقيها وخدمتها لي...  positive\n",
      "3    اسوا نت في العالم عانيت مليون مرررررا منهم رفع...  negative\n",
      "4    الفرع جدا ممتاز واشكر الاخوات الموظفات علي رحا...  positive\n",
      "..                                                 ...       ...\n",
      "450  التذكره ايش صار عليها محد فيكم تكرم تواصل معي ...   neutral\n",
      "452                                               قويه  positive\n",
      "453             انترنت لا محدود سرعه ميقا زين السعوديه  positive\n",
      "456     سرعه عاليه ميجا ال زين يارب وماخاب من قال يارب  positive\n",
      "458  كيف اشترك فيها لان ما تطلع لي بالتطبيق الا اذا...   neutral\n",
      "\n",
      "[387 rows x 2 columns]\n"
     ]
    }
   ],
   "source": [
    "from transformers import AutoTokenizer, AutoModelForSequenceClassification\n",
    "from transformers import pipeline\n",
    "\n",
    "model_name = \"CAMeL-Lab/bert-base-arabic-camelbert-da-sentiment\"  # Replace with the specific model you find\n",
    "tokenizer = AutoTokenizer.from_pretrained(model_name)\n",
    "model = AutoModelForSequenceClassification.from_pretrained(model_name)\n",
    "\n",
    "nlp = pipeline(\"sentiment-analysis\", model=model, tokenizer=tokenizer)\n",
    "\n",
    "# Function to apply sentiment analysis\n",
    "def analyze_sentiment(text):\n",
    "    result = nlp(text)\n",
    "    return result[0]['label']\n",
    "\n",
    "# Apply the function to your DataFrame\n",
    "df['sentiment'] = df['Reviews'].apply(analyze_sentiment)\n",
    "\n",
    "# Now `df` has an additional column `sentiment` with the analysis result\n",
    "print(df)"
   ]
  },
  {
   "cell_type": "code",
   "execution_count": 20,
   "metadata": {},
   "outputs": [],
   "source": [
    "df.dropna(inplace=True)"
   ]
  },
  {
   "cell_type": "code",
   "execution_count": 21,
   "metadata": {},
   "outputs": [
    {
     "data": {
      "text/plain": [
       "Reviews      0\n",
       "sentiment    0\n",
       "dtype: int64"
      ]
     },
     "execution_count": 21,
     "metadata": {},
     "output_type": "execute_result"
    }
   ],
   "source": [
    "df.isna().sum()"
   ]
  },
  {
   "cell_type": "code",
   "execution_count": 22,
   "metadata": {},
   "outputs": [],
   "source": [
    "df.to_csv('cleaned_dataset.csv', index=False)"
   ]
  },
  {
   "cell_type": "markdown",
   "metadata": {},
   "source": [
    "#### we manually removed not needed rows for better utlization of data and hence why it's imported again"
   ]
  },
  {
   "cell_type": "code",
   "execution_count": 23,
   "metadata": {},
   "outputs": [],
   "source": [
    "# after manual cleaning\n",
    "df=pd.read_csv('cleaned_dataset.csv')"
   ]
  },
  {
   "cell_type": "code",
   "execution_count": 24,
   "metadata": {},
   "outputs": [
    {
     "data": {
      "text/html": [
       "<div>\n",
       "<style scoped>\n",
       "    .dataframe tbody tr th:only-of-type {\n",
       "        vertical-align: middle;\n",
       "    }\n",
       "\n",
       "    .dataframe tbody tr th {\n",
       "        vertical-align: top;\n",
       "    }\n",
       "\n",
       "    .dataframe thead th {\n",
       "        text-align: right;\n",
       "    }\n",
       "</style>\n",
       "<table border=\"1\" class=\"dataframe\">\n",
       "  <thead>\n",
       "    <tr style=\"text-align: right;\">\n",
       "      <th></th>\n",
       "      <th>Reviews</th>\n",
       "      <th>sentiment</th>\n",
       "    </tr>\n",
       "  </thead>\n",
       "  <tbody>\n",
       "    <tr>\n",
       "      <th>0</th>\n",
       "      <td>كان لي تجربه اكثر من راءعه اليوم في هذا الفرع ...</td>\n",
       "      <td>positive</td>\n",
       "    </tr>\n",
       "    <tr>\n",
       "      <th>1</th>\n",
       "      <td>اسوء خدمه شركه اتصالات علي المستوي العربي كله ...</td>\n",
       "      <td>negative</td>\n",
       "    </tr>\n",
       "    <tr>\n",
       "      <th>2</th>\n",
       "      <td>اشكر الموظفه ضيء علي تعاملها ورقيها وخدمتها لي...</td>\n",
       "      <td>positive</td>\n",
       "    </tr>\n",
       "    <tr>\n",
       "      <th>3</th>\n",
       "      <td>اسوا نت في العالم عانيت مليون مرررررا منهم رفع...</td>\n",
       "      <td>negative</td>\n",
       "    </tr>\n",
       "    <tr>\n",
       "      <th>4</th>\n",
       "      <td>الفرع جدا ممتاز واشكر الاخوات الموظفات علي رحا...</td>\n",
       "      <td>positive</td>\n",
       "    </tr>\n",
       "    <tr>\n",
       "      <th>...</th>\n",
       "      <td>...</td>\n",
       "      <td>...</td>\n",
       "    </tr>\n",
       "    <tr>\n",
       "      <th>382</th>\n",
       "      <td>التذكره ايش صار عليها محد فيكم تكرم تواصل معي ...</td>\n",
       "      <td>neutral</td>\n",
       "    </tr>\n",
       "    <tr>\n",
       "      <th>383</th>\n",
       "      <td>قويه</td>\n",
       "      <td>positive</td>\n",
       "    </tr>\n",
       "    <tr>\n",
       "      <th>384</th>\n",
       "      <td>انترنت لا محدود سرعه ميقا زين السعوديه</td>\n",
       "      <td>positive</td>\n",
       "    </tr>\n",
       "    <tr>\n",
       "      <th>385</th>\n",
       "      <td>سرعه عاليه ميجا ال زين يارب وماخاب من قال يارب</td>\n",
       "      <td>positive</td>\n",
       "    </tr>\n",
       "    <tr>\n",
       "      <th>386</th>\n",
       "      <td>كيف اشترك فيها لان ما تطلع لي بالتطبيق الا اذا...</td>\n",
       "      <td>neutral</td>\n",
       "    </tr>\n",
       "  </tbody>\n",
       "</table>\n",
       "<p>387 rows × 2 columns</p>\n",
       "</div>"
      ],
      "text/plain": [
       "                                               Reviews sentiment\n",
       "0    كان لي تجربه اكثر من راءعه اليوم في هذا الفرع ...  positive\n",
       "1    اسوء خدمه شركه اتصالات علي المستوي العربي كله ...  negative\n",
       "2    اشكر الموظفه ضيء علي تعاملها ورقيها وخدمتها لي...  positive\n",
       "3    اسوا نت في العالم عانيت مليون مرررررا منهم رفع...  negative\n",
       "4    الفرع جدا ممتاز واشكر الاخوات الموظفات علي رحا...  positive\n",
       "..                                                 ...       ...\n",
       "382  التذكره ايش صار عليها محد فيكم تكرم تواصل معي ...   neutral\n",
       "383                                               قويه  positive\n",
       "384             انترنت لا محدود سرعه ميقا زين السعوديه  positive\n",
       "385     سرعه عاليه ميجا ال زين يارب وماخاب من قال يارب  positive\n",
       "386  كيف اشترك فيها لان ما تطلع لي بالتطبيق الا اذا...   neutral\n",
       "\n",
       "[387 rows x 2 columns]"
      ]
     },
     "execution_count": 24,
     "metadata": {},
     "output_type": "execute_result"
    }
   ],
   "source": [
    "df"
   ]
  },
  {
   "cell_type": "markdown",
   "metadata": {},
   "source": [
    "## Sentiment Analysis Using Clustering"
   ]
  },
  {
   "cell_type": "code",
   "execution_count": 29,
   "metadata": {},
   "outputs": [],
   "source": [
    "from sklearn.feature_extraction.text import TfidfVectorizer\n",
    "\n",
    "def vectorize_text(text_data):\n",
    "    vectorizer = TfidfVectorizer()\n",
    "    return vectorizer.fit_transform(text_data)"
   ]
  },
  {
   "cell_type": "code",
   "execution_count": 34,
   "metadata": {},
   "outputs": [],
   "source": [
    "import matplotlib.pyplot as plt\n",
    "from sklearn.decomposition import PCA\n",
    "\n",
    "def plot_clusters(text_matrix, cluster_labels):\n",
    "    # Reduce dimensions to 2D for visualization using PCA\n",
    "    pca = PCA(n_components=2)\n",
    "    reduced_data = pca.fit_transform(text_matrix.toarray())\n",
    "\n",
    "    # Scatter plot of the reduced data\n",
    "    plt.figure(figsize=(10, 6))\n",
    "    scatter = plt.scatter(reduced_data[:, 0], reduced_data[:, 1], c=cluster_labels, cmap='viridis', marker='o', edgecolor='k', s=50)\n",
    "    \n",
    "    # Adding title and labels\n",
    "    plt.title('Text Data Cluster Visualization')\n",
    "    plt.xlabel('PCA 1')\n",
    "    plt.ylabel('PCA 2')\n",
    "    \n",
    "    # Adding a legend\n",
    "    plt.colorbar(scatter, label='Cluster')\n",
    "    plt.show()\n"
   ]
  },
  {
   "cell_type": "code",
   "execution_count": 35,
   "metadata": {},
   "outputs": [],
   "source": [
    "from sklearn.cluster import KMeans\n",
    "\n",
    "def cluster_texts(df, text_column, num_clusters=3):\n",
    "    # Extract text data from DataFrame\n",
    "    text_data = df[text_column].values\n",
    "    # Vectorize the preprocessed text data\n",
    "    text_matrix = vectorize_text(text_data)\n",
    "    # Apply K-means clustering\n",
    "    km = KMeans(n_clusters=num_clusters)\n",
    "    km.fit(text_matrix)\n",
    "    # Assign the cluster labels to the DataFrame\n",
    "    df['cluster'] = km.labels_\n",
    "    # Plot clusters\n",
    "    plot_clusters(text_matrix, km.labels_)\n",
    "    return df"
   ]
  },
  {
   "cell_type": "code",
   "execution_count": 32,
   "metadata": {},
   "outputs": [],
   "source": [
    "df.dropna(inplace=True)"
   ]
  },
  {
   "cell_type": "code",
   "execution_count": 36,
   "metadata": {},
   "outputs": [
    {
     "data": {
      "image/png": "[encoded data removed]",
      "text/plain": [
       "<Figure size 1000x600 with 2 Axes>"
      ]
     },
     "metadata": {},
     "output_type": "display_data"
    },
    {
     "data": {
      "text/html": [
       "<div>\n",
       "<style scoped>\n",
       "    .dataframe tbody tr th:only-of-type {\n",
       "        vertical-align: middle;\n",
       "    }\n",
       "\n",
       "    .dataframe tbody tr th {\n",
       "        vertical-align: top;\n",
       "    }\n",
       "\n",
       "    .dataframe thead th {\n",
       "        text-align: right;\n",
       "    }\n",
       "</style>\n",
       "<table border=\"1\" class=\"dataframe\">\n",
       "  <thead>\n",
       "    <tr style=\"text-align: right;\">\n",
       "      <th></th>\n",
       "      <th>Reviews</th>\n",
       "      <th>sentiment</th>\n",
       "      <th>cluster</th>\n",
       "    </tr>\n",
       "  </thead>\n",
       "  <tbody>\n",
       "    <tr>\n",
       "      <th>0</th>\n",
       "      <td>كان لي تجربه اكثر من راءعه اليوم في هذا الفرع ...</td>\n",
       "      <td>positive</td>\n",
       "      <td>0</td>\n",
       "    </tr>\n",
       "    <tr>\n",
       "      <th>1</th>\n",
       "      <td>اسوء خدمه شركه اتصالات علي المستوي العربي كله ...</td>\n",
       "      <td>negative</td>\n",
       "      <td>2</td>\n",
       "    </tr>\n",
       "    <tr>\n",
       "      <th>2</th>\n",
       "      <td>اشكر الموظفه ضيء علي تعاملها ورقيها وخدمتها لي...</td>\n",
       "      <td>positive</td>\n",
       "      <td>2</td>\n",
       "    </tr>\n",
       "    <tr>\n",
       "      <th>3</th>\n",
       "      <td>اسوا نت في العالم عانيت مليون مرررررا منهم رفع...</td>\n",
       "      <td>negative</td>\n",
       "      <td>2</td>\n",
       "    </tr>\n",
       "    <tr>\n",
       "      <th>4</th>\n",
       "      <td>الفرع جدا ممتاز واشكر الاخوات الموظفات علي رحا...</td>\n",
       "      <td>positive</td>\n",
       "      <td>1</td>\n",
       "    </tr>\n",
       "    <tr>\n",
       "      <th>...</th>\n",
       "      <td>...</td>\n",
       "      <td>...</td>\n",
       "      <td>...</td>\n",
       "    </tr>\n",
       "    <tr>\n",
       "      <th>382</th>\n",
       "      <td>التذكره ايش صار عليها محد فيكم تكرم تواصل معي ...</td>\n",
       "      <td>neutral</td>\n",
       "      <td>0</td>\n",
       "    </tr>\n",
       "    <tr>\n",
       "      <th>383</th>\n",
       "      <td>قويه</td>\n",
       "      <td>positive</td>\n",
       "      <td>0</td>\n",
       "    </tr>\n",
       "    <tr>\n",
       "      <th>384</th>\n",
       "      <td>انترنت لا محدود سرعه ميقا زين السعوديه</td>\n",
       "      <td>positive</td>\n",
       "      <td>2</td>\n",
       "    </tr>\n",
       "    <tr>\n",
       "      <th>385</th>\n",
       "      <td>سرعه عاليه ميجا ال زين يارب وماخاب من قال يارب</td>\n",
       "      <td>positive</td>\n",
       "      <td>0</td>\n",
       "    </tr>\n",
       "    <tr>\n",
       "      <th>386</th>\n",
       "      <td>كيف اشترك فيها لان ما تطلع لي بالتطبيق الا اذا...</td>\n",
       "      <td>neutral</td>\n",
       "      <td>0</td>\n",
       "    </tr>\n",
       "  </tbody>\n",
       "</table>\n",
       "<p>386 rows × 3 columns</p>\n",
       "</div>"
      ],
      "text/plain": [
       "                                               Reviews sentiment  cluster\n",
       "0    كان لي تجربه اكثر من راءعه اليوم في هذا الفرع ...  positive        0\n",
       "1    اسوء خدمه شركه اتصالات علي المستوي العربي كله ...  negative        2\n",
       "2    اشكر الموظفه ضيء علي تعاملها ورقيها وخدمتها لي...  positive        2\n",
       "3    اسوا نت في العالم عانيت مليون مرررررا منهم رفع...  negative        2\n",
       "4    الفرع جدا ممتاز واشكر الاخوات الموظفات علي رحا...  positive        1\n",
       "..                                                 ...       ...      ...\n",
       "382  التذكره ايش صار عليها محد فيكم تكرم تواصل معي ...   neutral        0\n",
       "383                                               قويه  positive        0\n",
       "384             انترنت لا محدود سرعه ميقا زين السعوديه  positive        2\n",
       "385     سرعه عاليه ميجا ال زين يارب وماخاب من قال يارب  positive        0\n",
       "386  كيف اشترك فيها لان ما تطلع لي بالتطبيق الا اذا...   neutral        0\n",
       "\n",
       "[386 rows x 3 columns]"
      ]
     },
     "execution_count": 36,
     "metadata": {},
     "output_type": "execute_result"
    }
   ],
   "source": [
    "with_clusters = cluster_texts(df, 'Reviews', num_clusters=3)\n",
    "with_clusters"
   ]
  },
  {
   "cell_type": "code",
   "execution_count": 48,
   "metadata": {},
   "outputs": [],
   "source": [
    "from collections import Counter\n",
    "def inspect_clusters(df, text_column, cluster_labels, n_top_words=5):\n",
    "\n",
    "    \n",
    "    # Group the DataFrame by cluster\n",
    "    grouped = df.groupby('cluster')\n",
    "    \n",
    "    # Iterate through groups and display details\n",
    "    for name, group in grouped:\n",
    "        print(f\"\\nCluster {name}: {len(group)} texts\")\n",
    "        # Display a few texts from the cluster\n",
    "        print(\"\\nSample texts:\")\n",
    "        print(group[text_column].sample(min(len(group), 5)).to_list())\n",
    "        \n",
    "        # Aggregate all text to find the most common words\n",
    "        words = ' '.join(group[text_column].tolist()).split()\n",
    "        most_common_words = Counter(words).most_common(n_top_words)\n",
    "        \n",
    "        print(\"\\nMost common words:\")\n",
    "        print(\", \".join([word for word, freq in most_common_words]))\n",
    "\n",
    "        print(\"-\" * 80)\n"
   ]
  },
  {
   "cell_type": "code",
   "execution_count": 49,
   "metadata": {},
   "outputs": [
    {
     "name": "stdout",
     "output_type": "stream",
     "text": [
      "\n",
      "Cluster 0: 225 texts\n",
      "\n",
      "Sample texts:\n",
      "['اود ان اعرب عن خالص امتناني لشركه زين السعوديه كشك في الظهران مول علي خدماتهم المتميزه كان الموظفون في الكشك متعاونين للغايه ويقظين لقد كانت خبرتهم واستعدادهم لمساعدتي في استفساراتي واهتماماتي محل تقدير كبير ان الراحه التي يوفرها وجود المزيد', 'بعض الموظفين يكلموك من خشمهم ولا يفهموا في شغلهم لان كل الاسءله الي سالته مالقيت جوابه عندهم ومايعطوا تفاصيل كفايه كنت ابغا اسدد مديونيه يسالني كم ولما قلت له حق ويش قال فاتوره هههه وبعدها اتصلوا يقولوا ماسددت هل كيف وش هالشغل التلفيق', 'عندي راوتر زين من امس مو راضي يعطيني او وش المشكله ارجو الحل', 'اشكر الاخ باقر الهلال علي خدمته السريعه والابتسامه الطيبه بالتوفيق', 'شركه اتصالات سعوديه']\n",
      "\n",
      "Most common words:\n",
      "من, في, علي, و, زين\n",
      "--------------------------------------------------------------------------------\n",
      "\n",
      "Cluster 1: 85 texts\n",
      "\n",
      "Sample texts:\n",
      "['شركه ذات خدمه وتعامل رديءه جدا لا يتجاوبون معك علي الاطلاق', 'خدمه عملاء جيده جدا', 'خدمه ممتازه', 'مكان مرتب و نظيف جدا و استقبال الموظفين غايه في الروعه والجمال و مكانه مميز', 'خدمتهم ممتازه وخصوصا الاخ محمد الميرزا جدا خلوق وراق ف تعامله شكرا ميرزااا']\n",
      "\n",
      "Most common words:\n",
      "جدا, خدمه, ممتاز, في, من\n",
      "--------------------------------------------------------------------------------\n",
      "\n",
      "Cluster 2: 76 texts\n",
      "\n",
      "Sample texts:\n",
      "['اسوا شركه اتصالات', 'شريه عرض شبكه مفتوحه مع راوتر جيت باشغل الشبكه تفاجات مافي تغطيه في منطقتي مع انه في الخريطه محطوط في تغطيه المزيد', 'لا تصدقووووون اي شي تعلن عنه هذي الشركه والله ما عندنا نت في مدينه الخبر يا عالم معد احد يستخدمها الا سركه زين', 'تعامل راقي وتعاون في محله فرع مميز اسال الله لهم التوفيق واخص بالشكر الاخ مشاري علي تعامله الراقي وجعل تجربتي مع زين تجربه اوصي بها وبشده', 'الموظفين قمه في الاخلاق وثانيا لايوجد زحمه']\n",
      "\n",
      "Most common words:\n",
      "في, لا, ولا, من, زين\n",
      "--------------------------------------------------------------------------------\n"
     ]
    }
   ],
   "source": [
    "inspect_clusters(df, 'Reviews', [0,1,2])"
   ]
  },
  {
   "cell_type": "code",
   "execution_count": 52,
   "metadata": {},
   "outputs": [
    {
     "data": {
      "text/html": [
       "<div>\n",
       "<style scoped>\n",
       "    .dataframe tbody tr th:only-of-type {\n",
       "        vertical-align: middle;\n",
       "    }\n",
       "\n",
       "    .dataframe tbody tr th {\n",
       "        vertical-align: top;\n",
       "    }\n",
       "\n",
       "    .dataframe thead th {\n",
       "        text-align: right;\n",
       "    }\n",
       "</style>\n",
       "<table border=\"1\" class=\"dataframe\">\n",
       "  <thead>\n",
       "    <tr style=\"text-align: right;\">\n",
       "      <th></th>\n",
       "      <th>Reviews</th>\n",
       "      <th>sentiment</th>\n",
       "      <th>cluster</th>\n",
       "      <th>C-sentiment</th>\n",
       "    </tr>\n",
       "  </thead>\n",
       "  <tbody>\n",
       "    <tr>\n",
       "      <th>0</th>\n",
       "      <td>كان لي تجربه اكثر من راءعه اليوم في هذا الفرع ...</td>\n",
       "      <td>positive</td>\n",
       "      <td>0</td>\n",
       "      <td>neutral</td>\n",
       "    </tr>\n",
       "    <tr>\n",
       "      <th>1</th>\n",
       "      <td>اسوء خدمه شركه اتصالات علي المستوي العربي كله ...</td>\n",
       "      <td>negative</td>\n",
       "      <td>2</td>\n",
       "      <td>negative</td>\n",
       "    </tr>\n",
       "    <tr>\n",
       "      <th>2</th>\n",
       "      <td>اشكر الموظفه ضيء علي تعاملها ورقيها وخدمتها لي...</td>\n",
       "      <td>positive</td>\n",
       "      <td>2</td>\n",
       "      <td>negative</td>\n",
       "    </tr>\n",
       "    <tr>\n",
       "      <th>3</th>\n",
       "      <td>اسوا نت في العالم عانيت مليون مرررررا منهم رفع...</td>\n",
       "      <td>negative</td>\n",
       "      <td>2</td>\n",
       "      <td>negative</td>\n",
       "    </tr>\n",
       "    <tr>\n",
       "      <th>4</th>\n",
       "      <td>الفرع جدا ممتاز واشكر الاخوات الموظفات علي رحا...</td>\n",
       "      <td>positive</td>\n",
       "      <td>1</td>\n",
       "      <td>positive</td>\n",
       "    </tr>\n",
       "    <tr>\n",
       "      <th>...</th>\n",
       "      <td>...</td>\n",
       "      <td>...</td>\n",
       "      <td>...</td>\n",
       "      <td>...</td>\n",
       "    </tr>\n",
       "    <tr>\n",
       "      <th>382</th>\n",
       "      <td>التذكره ايش صار عليها محد فيكم تكرم تواصل معي ...</td>\n",
       "      <td>neutral</td>\n",
       "      <td>0</td>\n",
       "      <td>neutral</td>\n",
       "    </tr>\n",
       "    <tr>\n",
       "      <th>383</th>\n",
       "      <td>قويه</td>\n",
       "      <td>positive</td>\n",
       "      <td>0</td>\n",
       "      <td>neutral</td>\n",
       "    </tr>\n",
       "    <tr>\n",
       "      <th>384</th>\n",
       "      <td>انترنت لا محدود سرعه ميقا زين السعوديه</td>\n",
       "      <td>positive</td>\n",
       "      <td>2</td>\n",
       "      <td>negative</td>\n",
       "    </tr>\n",
       "    <tr>\n",
       "      <th>385</th>\n",
       "      <td>سرعه عاليه ميجا ال زين يارب وماخاب من قال يارب</td>\n",
       "      <td>positive</td>\n",
       "      <td>0</td>\n",
       "      <td>neutral</td>\n",
       "    </tr>\n",
       "    <tr>\n",
       "      <th>386</th>\n",
       "      <td>كيف اشترك فيها لان ما تطلع لي بالتطبيق الا اذا...</td>\n",
       "      <td>neutral</td>\n",
       "      <td>0</td>\n",
       "      <td>neutral</td>\n",
       "    </tr>\n",
       "  </tbody>\n",
       "</table>\n",
       "<p>386 rows × 4 columns</p>\n",
       "</div>"
      ],
      "text/plain": [
       "                                               Reviews sentiment  cluster  \\\n",
       "0    كان لي تجربه اكثر من راءعه اليوم في هذا الفرع ...  positive        0   \n",
       "1    اسوء خدمه شركه اتصالات علي المستوي العربي كله ...  negative        2   \n",
       "2    اشكر الموظفه ضيء علي تعاملها ورقيها وخدمتها لي...  positive        2   \n",
       "3    اسوا نت في العالم عانيت مليون مرررررا منهم رفع...  negative        2   \n",
       "4    الفرع جدا ممتاز واشكر الاخوات الموظفات علي رحا...  positive        1   \n",
       "..                                                 ...       ...      ...   \n",
       "382  التذكره ايش صار عليها محد فيكم تكرم تواصل معي ...   neutral        0   \n",
       "383                                               قويه  positive        0   \n",
       "384             انترنت لا محدود سرعه ميقا زين السعوديه  positive        2   \n",
       "385     سرعه عاليه ميجا ال زين يارب وماخاب من قال يارب  positive        0   \n",
       "386  كيف اشترك فيها لان ما تطلع لي بالتطبيق الا اذا...   neutral        0   \n",
       "\n",
       "    C-sentiment  \n",
       "0       neutral  \n",
       "1      negative  \n",
       "2      negative  \n",
       "3      negative  \n",
       "4      positive  \n",
       "..          ...  \n",
       "382     neutral  \n",
       "383     neutral  \n",
       "384    negative  \n",
       "385     neutral  \n",
       "386     neutral  \n",
       "\n",
       "[386 rows x 4 columns]"
      ]
     },
     "execution_count": 52,
     "metadata": {},
     "output_type": "execute_result"
    }
   ],
   "source": [
    "def assign_sentiment_labels(df, cluster_to_sentiment):\n",
    "    # Apply the mapping to the DataFrame\n",
    "    df['C-sentiment'] = df['cluster'].map(cluster_to_sentiment)\n",
    "    return df\n",
    "\n",
    "# Example of a manual mapping based on hypothetical inspection\n",
    "cluster_to_sentiment = {\n",
    "    0: 'neutral',\n",
    "    1: 'positive',\n",
    "    2: 'negative'\n",
    "}\n",
    "\n",
    "sentiment_df = assign_sentiment_labels(with_clusters, cluster_to_sentiment)\n",
    "sentiment_df"
   ]
  },
  {
   "cell_type": "markdown",
   "metadata": {},
   "source": [
    "## Visualization"
   ]
  },
  {
   "cell_type": "code",
   "execution_count": 54,
   "metadata": {},
   "outputs": [
    {
     "data": {
      "text/html": [
       "<div>\n",
       "<style scoped>\n",
       "    .dataframe tbody tr th:only-of-type {\n",
       "        vertical-align: middle;\n",
       "    }\n",
       "\n",
       "    .dataframe tbody tr th {\n",
       "        vertical-align: top;\n",
       "    }\n",
       "\n",
       "    .dataframe thead th {\n",
       "        text-align: right;\n",
       "    }\n",
       "</style>\n",
       "<table border=\"1\" class=\"dataframe\">\n",
       "  <thead>\n",
       "    <tr style=\"text-align: right;\">\n",
       "      <th></th>\n",
       "      <th>cluster</th>\n",
       "    </tr>\n",
       "  </thead>\n",
       "  <tbody>\n",
       "    <tr>\n",
       "      <th>count</th>\n",
       "      <td>386.000000</td>\n",
       "    </tr>\n",
       "    <tr>\n",
       "      <th>mean</th>\n",
       "      <td>0.613990</td>\n",
       "    </tr>\n",
       "    <tr>\n",
       "      <th>std</th>\n",
       "      <td>0.795253</td>\n",
       "    </tr>\n",
       "    <tr>\n",
       "      <th>min</th>\n",
       "      <td>0.000000</td>\n",
       "    </tr>\n",
       "    <tr>\n",
       "      <th>25%</th>\n",
       "      <td>0.000000</td>\n",
       "    </tr>\n",
       "    <tr>\n",
       "      <th>50%</th>\n",
       "      <td>0.000000</td>\n",
       "    </tr>\n",
       "    <tr>\n",
       "      <th>75%</th>\n",
       "      <td>1.000000</td>\n",
       "    </tr>\n",
       "    <tr>\n",
       "      <th>max</th>\n",
       "      <td>2.000000</td>\n",
       "    </tr>\n",
       "  </tbody>\n",
       "</table>\n",
       "</div>"
      ],
      "text/plain": [
       "          cluster\n",
       "count  386.000000\n",
       "mean     0.613990\n",
       "std      0.795253\n",
       "min      0.000000\n",
       "25%      0.000000\n",
       "50%      0.000000\n",
       "75%      1.000000\n",
       "max      2.000000"
      ]
     },
     "execution_count": 54,
     "metadata": {},
     "output_type": "execute_result"
    }
   ],
   "source": [
    "sentiment_df.describe()"
   ]
  },
  {
   "cell_type": "code",
   "execution_count": 55,
   "metadata": {},
   "outputs": [
    {
     "data": {
      "text/plain": [
       "<Axes: xlabel='sentiment', ylabel='count'>"
      ]
     },
     "execution_count": 55,
     "metadata": {},
     "output_type": "execute_result"
    },
    {
     "data": {
      "image/png": "[encoded data removed]",
      "text/plain": [
       "<Figure size 640x480 with 1 Axes>"
      ]
     },
     "metadata": {},
     "output_type": "display_data"
    }
   ],
   "source": [
    "#create a plot to view the distribution of the sentiment using transformer\n",
    "sns.countplot(x='sentiment', data=sentiment_df)"
   ]
  },
  {
   "cell_type": "code",
   "execution_count": 56,
   "metadata": {},
   "outputs": [
    {
     "data": {
      "text/plain": [
       "<Axes: xlabel='C-sentiment', ylabel='count'>"
      ]
     },
     "execution_count": 56,
     "metadata": {},
     "output_type": "execute_result"
    },
    {
     "data": {
      "image/png": "[encoded data removed]",
      "text/plain": [
       "<Figure size 640x480 with 1 Axes>"
      ]
     },
     "metadata": {},
     "output_type": "display_data"
    }
   ],
   "source": [
    "#create a plot to view the distribution of the sentiment using Kmeans\n",
    "sns.countplot(x='C-sentiment', data=sentiment_df)"
   ]
  },
  {
   "cell_type": "markdown",
   "metadata": {},
   "source": [
    "### Tokenization to view word frequency "
   ]
  },
  {
   "cell_type": "code",
   "execution_count": 57,
   "metadata": {},
   "outputs": [
    {
     "data": {
      "text/html": [
       "<div>\n",
       "<style scoped>\n",
       "    .dataframe tbody tr th:only-of-type {\n",
       "        vertical-align: middle;\n",
       "    }\n",
       "\n",
       "    .dataframe tbody tr th {\n",
       "        vertical-align: top;\n",
       "    }\n",
       "\n",
       "    .dataframe thead th {\n",
       "        text-align: right;\n",
       "    }\n",
       "</style>\n",
       "<table border=\"1\" class=\"dataframe\">\n",
       "  <thead>\n",
       "    <tr style=\"text-align: right;\">\n",
       "      <th></th>\n",
       "      <th>Reviews</th>\n",
       "      <th>sentiment</th>\n",
       "      <th>cluster</th>\n",
       "      <th>C-sentiment</th>\n",
       "    </tr>\n",
       "  </thead>\n",
       "  <tbody>\n",
       "    <tr>\n",
       "      <th>0</th>\n",
       "      <td>[تجربه, اكثر, راءعه, اليوم, الفرع, الخدمه, الم...</td>\n",
       "      <td>positive</td>\n",
       "      <td>0</td>\n",
       "      <td>neutral</td>\n",
       "    </tr>\n",
       "    <tr>\n",
       "      <th>1</th>\n",
       "      <td>[اسوء, خدمه, شركه, اتصالات, المستوي, العربي, ك...</td>\n",
       "      <td>negative</td>\n",
       "      <td>2</td>\n",
       "      <td>negative</td>\n",
       "    </tr>\n",
       "    <tr>\n",
       "      <th>2</th>\n",
       "      <td>[اشكر, الموظفه, ضيء, تعاملها, ورقيها, وخدمتها,...</td>\n",
       "      <td>positive</td>\n",
       "      <td>2</td>\n",
       "      <td>negative</td>\n",
       "    </tr>\n",
       "    <tr>\n",
       "      <th>3</th>\n",
       "      <td>[اسوا, العالم, عانيت, مليون, مرررررا, منهم, رف...</td>\n",
       "      <td>negative</td>\n",
       "      <td>2</td>\n",
       "      <td>negative</td>\n",
       "    </tr>\n",
       "    <tr>\n",
       "      <th>4</th>\n",
       "      <td>[الفرع, جدا, ممتاز, واشكر, الاخوات, الموظفات, ...</td>\n",
       "      <td>positive</td>\n",
       "      <td>1</td>\n",
       "      <td>positive</td>\n",
       "    </tr>\n",
       "    <tr>\n",
       "      <th>...</th>\n",
       "      <td>...</td>\n",
       "      <td>...</td>\n",
       "      <td>...</td>\n",
       "      <td>...</td>\n",
       "    </tr>\n",
       "    <tr>\n",
       "      <th>382</th>\n",
       "      <td>[التذكره, ايش, عليها, محد, فيكم, تكرم, تواصل, ...</td>\n",
       "      <td>neutral</td>\n",
       "      <td>0</td>\n",
       "      <td>neutral</td>\n",
       "    </tr>\n",
       "    <tr>\n",
       "      <th>383</th>\n",
       "      <td>[قويه]</td>\n",
       "      <td>positive</td>\n",
       "      <td>0</td>\n",
       "      <td>neutral</td>\n",
       "    </tr>\n",
       "    <tr>\n",
       "      <th>384</th>\n",
       "      <td>[انترنت, محدود, سرعه, ميقا, زين, السعوديه]</td>\n",
       "      <td>positive</td>\n",
       "      <td>2</td>\n",
       "      <td>negative</td>\n",
       "    </tr>\n",
       "    <tr>\n",
       "      <th>385</th>\n",
       "      <td>[سرعه, عاليه, ميجا, زين, يارب, وماخاب, قال, يارب]</td>\n",
       "      <td>positive</td>\n",
       "      <td>0</td>\n",
       "      <td>neutral</td>\n",
       "    </tr>\n",
       "    <tr>\n",
       "      <th>386</th>\n",
       "      <td>[اشترك, تطلع, بالتطبيق, الا, باخذ, رقم, جديد, ...</td>\n",
       "      <td>neutral</td>\n",
       "      <td>0</td>\n",
       "      <td>neutral</td>\n",
       "    </tr>\n",
       "  </tbody>\n",
       "</table>\n",
       "<p>386 rows × 4 columns</p>\n",
       "</div>"
      ],
      "text/plain": [
       "                                               Reviews sentiment  cluster  \\\n",
       "0    [تجربه, اكثر, راءعه, اليوم, الفرع, الخدمه, الم...  positive        0   \n",
       "1    [اسوء, خدمه, شركه, اتصالات, المستوي, العربي, ك...  negative        2   \n",
       "2    [اشكر, الموظفه, ضيء, تعاملها, ورقيها, وخدمتها,...  positive        2   \n",
       "3    [اسوا, العالم, عانيت, مليون, مرررررا, منهم, رف...  negative        2   \n",
       "4    [الفرع, جدا, ممتاز, واشكر, الاخوات, الموظفات, ...  positive        1   \n",
       "..                                                 ...       ...      ...   \n",
       "382  [التذكره, ايش, عليها, محد, فيكم, تكرم, تواصل, ...   neutral        0   \n",
       "383                                             [قويه]  positive        0   \n",
       "384         [انترنت, محدود, سرعه, ميقا, زين, السعوديه]  positive        2   \n",
       "385  [سرعه, عاليه, ميجا, زين, يارب, وماخاب, قال, يارب]  positive        0   \n",
       "386  [اشترك, تطلع, بالتطبيق, الا, باخذ, رقم, جديد, ...   neutral        0   \n",
       "\n",
       "    C-sentiment  \n",
       "0       neutral  \n",
       "1      negative  \n",
       "2      negative  \n",
       "3      negative  \n",
       "4      positive  \n",
       "..          ...  \n",
       "382     neutral  \n",
       "383     neutral  \n",
       "384    negative  \n",
       "385     neutral  \n",
       "386     neutral  \n",
       "\n",
       "[386 rows x 4 columns]"
      ]
     },
     "execution_count": 57,
     "metadata": {},
     "output_type": "execute_result"
    }
   ],
   "source": [
    "df_for_tokenization = df.copy()\n",
    "tokenizer = RegexpTokenizer(r'\\w+')\n",
    "df_for_tokenization[\"Reviews\"] = df_for_tokenization[\"Reviews\"].apply(tokenizer.tokenize)\n",
    "stopwords_list = stopwords.words('arabic')\n",
    "listToStr = ' '.join([str(elem) for elem in stopwords_list])\n",
    "df_for_tokenization[\"Reviews\"] = df_for_tokenization[\"Reviews\"].apply(lambda x: [item for item in x if item not in listToStr])\n",
    "df_for_tokenization"
   ]
  },
  {
   "cell_type": "code",
   "execution_count": 64,
   "metadata": {},
   "outputs": [],
   "source": [
    "import matplotlib.pyplot as plt\n",
    "from collections import Counter\n",
    "import arabic_reshaper\n",
    "from bidi.algorithm import get_display\n",
    "\n",
    "def get_most_common_words_by_class(sentiment_df, sentiment, n=10):\n",
    "    \"\"\"Get the most common words for each class.\"\"\"\n",
    "    classes = sentiment_df[sentiment].unique()\n",
    "    common_words = {}\n",
    "    \n",
    "    for cls in classes:\n",
    "        words = [word for sublist in sentiment_df[sentiment_df[sentiment] == cls]['Reviews'] for word in sublist]\n",
    "        most_common = Counter(words).most_common(n)\n",
    "        common_words[cls] = most_common\n",
    "        \n",
    "    return common_words\n",
    "\n",
    "def plot_most_common_words(common_words):\n",
    "    \"\"\"Plot the most common words for each class, applying Arabic reshaping.\"\"\"\n",
    "    # Create a figure with subplots\n",
    "    fig, axes = plt.subplots(len(common_words), 1, figsize=(10, 15), squeeze=False)  # Ensure axes is always 2D\n",
    "    fig.tight_layout(pad=8.0)\n",
    "    \n",
    "    for i, (cls, words) in enumerate(common_words.items()):\n",
    "        words, frequencies = zip(*words)\n",
    "        # Reshape words for correct Arabic rendering\n",
    "        reshaped_words = [get_display(arabic_reshaper.reshape(word)) for word in words]\n",
    "        \n",
    "        ax = sns.barplot(x=list(frequencies), y=reshaped_words, ax=axes[i, 0])\n",
    "        ax.set_title(f'Most Common Words in {get_display(arabic_reshaper.reshape(cls))}', fontsize=16)\n",
    "\n",
    "        # Set font for both title and y-tick labels to 'Al Bayan'\n",
    "        ax.title.set_fontname('sans')\n",
    "        for label in ax.get_yticklabels():\n",
    "            label.set_fontname('SF Arabic')\n",
    "        \n",
    "    plt.show()"
   ]
  },
  {
   "cell_type": "code",
   "execution_count": 66,
   "metadata": {},
   "outputs": [
    {
     "name": "stderr",
     "output_type": "stream",
     "text": [
      "c:\\ProgramData\\anaconda3\\Lib\\site-packages\\seaborn\\_oldcore.py:1765: FutureWarning: unique with argument that is not not a Series, Index, ExtensionArray, or np.ndarray is deprecated and will raise in a future version.\n",
      "  order = pd.unique(vector)\n",
      "c:\\ProgramData\\anaconda3\\Lib\\site-packages\\seaborn\\_oldcore.py:1765: FutureWarning: unique with argument that is not not a Series, Index, ExtensionArray, or np.ndarray is deprecated and will raise in a future version.\n",
      "  order = pd.unique(vector)\n",
      "c:\\ProgramData\\anaconda3\\Lib\\site-packages\\seaborn\\_oldcore.py:1765: FutureWarning: unique with argument that is not not a Series, Index, ExtensionArray, or np.ndarray is deprecated and will raise in a future version.\n",
      "  order = pd.unique(vector)\n",
      "findfont: Font family 'SF Arabic' not found.\n",
      "findfont: Font family 'SF Arabic' not found.\n",
      "findfont: Font family 'SF Arabic' not found.\n",
      "findfont: Font family 'SF Arabic' not found.\n",
      "c:\\ProgramData\\anaconda3\\Lib\\site-packages\\IPython\\core\\pylabtools.py:152: UserWarning: Glyph 65010 (\\N{ARABIC LIGATURE ALLAH ISOLATED FORM}) missing from current font.\n",
      "  fig.canvas.print_figure(bytes_io, **kw)\n",
      "findfont: Font family 'SF Arabic' not found.\n",
      "findfont: Font family 'SF Arabic' not found.\n",
      "findfont: Font family 'SF Arabic' not found.\n",
      "findfont: Font family 'SF Arabic' not found.\n",
      "findfont: Font family 'SF Arabic' not found.\n",
      "findfont: Font family 'SF Arabic' not found.\n",
      "findfont: Font family 'SF Arabic' not found.\n",
      "findfont: Font family 'SF Arabic' not found.\n",
      "findfont: Font family 'SF Arabic' not found.\n",
      "findfont: Font family 'SF Arabic' not found.\n",
      "findfont: Font family 'SF Arabic' not found.\n",
      "findfont: Font family 'SF Arabic' not found.\n",
      "findfont: Font family 'SF Arabic' not found.\n",
      "findfont: Font family 'SF Arabic' not found.\n",
      "findfont: Font family 'SF Arabic' not found.\n",
      "findfont: Font family 'SF Arabic' not found.\n",
      "findfont: Font family 'SF Arabic' not found.\n",
      "findfont: Font family 'SF Arabic' not found.\n",
      "findfont: Font family 'SF Arabic' not found.\n",
      "findfont: Font family 'SF Arabic' not found.\n",
      "findfont: Font family 'SF Arabic' not found.\n",
      "findfont: Font family 'SF Arabic' not found.\n",
      "findfont: Font family 'SF Arabic' not found.\n",
      "findfont: Font family 'SF Arabic' not found.\n",
      "findfont: Font family 'SF Arabic' not found.\n",
      "findfont: Font family 'SF Arabic' not found.\n",
      "findfont: Font family 'SF Arabic' not found.\n",
      "findfont: Font family 'SF Arabic' not found.\n",
      "findfont: Font family 'SF Arabic' not found.\n",
      "findfont: Font family 'SF Arabic' not found.\n",
      "findfont: Font family 'SF Arabic' not found.\n",
      "findfont: Font family 'SF Arabic' not found.\n",
      "findfont: Font family 'SF Arabic' not found.\n",
      "findfont: Font family 'SF Arabic' not found.\n",
      "findfont: Font family 'SF Arabic' not found.\n",
      "findfont: Font family 'SF Arabic' not found.\n",
      "findfont: Font family 'SF Arabic' not found.\n",
      "findfont: Font family 'SF Arabic' not found.\n",
      "findfont: Font family 'SF Arabic' not found.\n",
      "findfont: Font family 'SF Arabic' not found.\n",
      "findfont: Font family 'SF Arabic' not found.\n",
      "findfont: Font family 'SF Arabic' not found.\n",
      "findfont: Font family 'SF Arabic' not found.\n",
      "findfont: Font family 'SF Arabic' not found.\n",
      "findfont: Font family 'SF Arabic' not found.\n",
      "findfont: Font family 'SF Arabic' not found.\n",
      "findfont: Font family 'SF Arabic' not found.\n",
      "findfont: Font family 'SF Arabic' not found.\n",
      "findfont: Font family 'SF Arabic' not found.\n",
      "findfont: Font family 'SF Arabic' not found.\n",
      "findfont: Font family 'SF Arabic' not found.\n",
      "findfont: Font family 'SF Arabic' not found.\n",
      "findfont: Font family 'SF Arabic' not found.\n",
      "findfont: Font family 'SF Arabic' not found.\n",
      "findfont: Font family 'SF Arabic' not found.\n",
      "findfont: Font family 'SF Arabic' not found.\n",
      "findfont: Font family 'SF Arabic' not found.\n",
      "findfont: Font family 'SF Arabic' not found.\n",
      "findfont: Font family 'SF Arabic' not found.\n",
      "findfont: Font family 'SF Arabic' not found.\n",
      "findfont: Font family 'SF Arabic' not found.\n",
      "findfont: Font family 'SF Arabic' not found.\n",
      "findfont: Font family 'SF Arabic' not found.\n",
      "findfont: Font family 'SF Arabic' not found.\n",
      "findfont: Font family 'SF Arabic' not found.\n",
      "findfont: Font family 'SF Arabic' not found.\n",
      "findfont: Font family 'SF Arabic' not found.\n",
      "findfont: Font family 'SF Arabic' not found.\n",
      "findfont: Font family 'SF Arabic' not found.\n",
      "findfont: Font family 'SF Arabic' not found.\n"
     ]
    },
    {
     "data": {
      "image/png": "[encoded data removed]",
      "text/plain": [
       "<Figure size 1000x1500 with 3 Axes>"
      ]
     },
     "metadata": {},
     "output_type": "display_data"
    }
   ],
   "source": [
    "# Get the most common words by class for the 'sentiment' column\n",
    "common_words = get_most_common_words_by_class(df_for_tokenization,'sentiment' ,n=10)  # Adjust n as needed\n",
    "\n",
    "# Plot the most common words\n",
    "plot_most_common_words(common_words)"
   ]
  },
  {
   "cell_type": "code",
   "execution_count": 67,
   "metadata": {},
   "outputs": [
    {
     "name": "stderr",
     "output_type": "stream",
     "text": [
      "c:\\ProgramData\\anaconda3\\Lib\\site-packages\\seaborn\\_oldcore.py:1765: FutureWarning: unique with argument that is not not a Series, Index, ExtensionArray, or np.ndarray is deprecated and will raise in a future version.\n",
      "  order = pd.unique(vector)\n",
      "c:\\ProgramData\\anaconda3\\Lib\\site-packages\\seaborn\\_oldcore.py:1765: FutureWarning: unique with argument that is not not a Series, Index, ExtensionArray, or np.ndarray is deprecated and will raise in a future version.\n",
      "  order = pd.unique(vector)\n",
      "c:\\ProgramData\\anaconda3\\Lib\\site-packages\\seaborn\\_oldcore.py:1765: FutureWarning: unique with argument that is not not a Series, Index, ExtensionArray, or np.ndarray is deprecated and will raise in a future version.\n",
      "  order = pd.unique(vector)\n",
      "findfont: Font family 'SF Arabic' not found.\n",
      "findfont: Font family 'SF Arabic' not found.\n",
      "findfont: Font family 'SF Arabic' not found.\n",
      "c:\\ProgramData\\anaconda3\\Lib\\site-packages\\IPython\\core\\pylabtools.py:152: UserWarning: Glyph 65010 (\\N{ARABIC LIGATURE ALLAH ISOLATED FORM}) missing from current font.\n",
      "  fig.canvas.print_figure(bytes_io, **kw)\n",
      "findfont: Font family 'SF Arabic' not found.\n",
      "findfont: Font family 'SF Arabic' not found.\n",
      "findfont: Font family 'SF Arabic' not found.\n",
      "findfont: Font family 'SF Arabic' not found.\n",
      "findfont: Font family 'SF Arabic' not found.\n",
      "findfont: Font family 'SF Arabic' not found.\n",
      "findfont: Font family 'SF Arabic' not found.\n",
      "findfont: Font family 'SF Arabic' not found.\n",
      "findfont: Font family 'SF Arabic' not found.\n",
      "findfont: Font family 'SF Arabic' not found.\n",
      "findfont: Font family 'SF Arabic' not found.\n",
      "findfont: Font family 'SF Arabic' not found.\n",
      "findfont: Font family 'SF Arabic' not found.\n",
      "findfont: Font family 'SF Arabic' not found.\n",
      "findfont: Font family 'SF Arabic' not found.\n",
      "findfont: Font family 'SF Arabic' not found.\n",
      "findfont: Font family 'SF Arabic' not found.\n",
      "findfont: Font family 'SF Arabic' not found.\n",
      "findfont: Font family 'SF Arabic' not found.\n",
      "findfont: Font family 'SF Arabic' not found.\n",
      "findfont: Font family 'SF Arabic' not found.\n",
      "findfont: Font family 'SF Arabic' not found.\n",
      "findfont: Font family 'SF Arabic' not found.\n",
      "findfont: Font family 'SF Arabic' not found.\n",
      "findfont: Font family 'SF Arabic' not found.\n",
      "findfont: Font family 'SF Arabic' not found.\n",
      "findfont: Font family 'SF Arabic' not found.\n",
      "findfont: Font family 'SF Arabic' not found.\n",
      "findfont: Font family 'SF Arabic' not found.\n",
      "findfont: Font family 'SF Arabic' not found.\n",
      "findfont: Font family 'SF Arabic' not found.\n",
      "findfont: Font family 'SF Arabic' not found.\n",
      "findfont: Font family 'SF Arabic' not found.\n",
      "findfont: Font family 'SF Arabic' not found.\n",
      "findfont: Font family 'SF Arabic' not found.\n",
      "findfont: Font family 'SF Arabic' not found.\n",
      "findfont: Font family 'SF Arabic' not found.\n",
      "findfont: Font family 'SF Arabic' not found.\n",
      "findfont: Font family 'SF Arabic' not found.\n",
      "findfont: Font family 'SF Arabic' not found.\n",
      "findfont: Font family 'SF Arabic' not found.\n",
      "findfont: Font family 'SF Arabic' not found.\n",
      "findfont: Font family 'SF Arabic' not found.\n",
      "findfont: Font family 'SF Arabic' not found.\n",
      "findfont: Font family 'SF Arabic' not found.\n",
      "findfont: Font family 'SF Arabic' not found.\n",
      "findfont: Font family 'SF Arabic' not found.\n",
      "findfont: Font family 'SF Arabic' not found.\n",
      "findfont: Font family 'SF Arabic' not found.\n",
      "findfont: Font family 'SF Arabic' not found.\n",
      "findfont: Font family 'SF Arabic' not found.\n",
      "findfont: Font family 'SF Arabic' not found.\n",
      "findfont: Font family 'SF Arabic' not found.\n",
      "findfont: Font family 'SF Arabic' not found.\n",
      "findfont: Font family 'SF Arabic' not found.\n",
      "findfont: Font family 'SF Arabic' not found.\n",
      "findfont: Font family 'SF Arabic' not found.\n",
      "findfont: Font family 'SF Arabic' not found.\n",
      "findfont: Font family 'SF Arabic' not found.\n",
      "findfont: Font family 'SF Arabic' not found.\n",
      "findfont: Font family 'SF Arabic' not found.\n",
      "findfont: Font family 'SF Arabic' not found.\n",
      "findfont: Font family 'SF Arabic' not found.\n",
      "findfont: Font family 'SF Arabic' not found.\n",
      "findfont: Font family 'SF Arabic' not found.\n",
      "findfont: Font family 'SF Arabic' not found.\n",
      "findfont: Font family 'SF Arabic' not found.\n",
      "findfont: Font family 'SF Arabic' not found.\n",
      "findfont: Font family 'SF Arabic' not found.\n",
      "findfont: Font family 'SF Arabic' not found.\n",
      "findfont: Font family 'SF Arabic' not found.\n",
      "findfont: Font family 'SF Arabic' not found.\n",
      "findfont: Font family 'SF Arabic' not found.\n"
     ]
    },
    {
     "data": {
      "image/png": "[encoded data removed]",
      "text/plain": [
       "<Figure size 1000x1500 with 3 Axes>"
      ]
     },
     "metadata": {},
     "output_type": "display_data"
    }
   ],
   "source": [
    "# Get the most common words by class for the 'C-sentiment' column\n",
    "common_words = get_most_common_words_by_class(df_for_tokenization,'C-sentiment' ,n=10)  # Adjust n as needed\n",
    "\n",
    "# Plot the most common words\n",
    "plot_most_common_words(common_words)"
   ]
  },
  {
   "cell_type": "code",
   "execution_count": 68,
   "metadata": {},
   "outputs": [
    {
     "data": {
      "text/plain": [
       "<Axes: xlabel='sentiment', ylabel='Reviews_length'>"
      ]
     },
     "execution_count": 68,
     "metadata": {},
     "output_type": "execute_result"
    },
    {
     "data": {
      "image/png": "[encoded data removed]",
      "text/plain": [
       "<Figure size 640x480 with 1 Axes>"
      ]
     },
     "metadata": {},
     "output_type": "display_data"
    }
   ],
   "source": [
    "#boxplot to view the distribution of the length of the reviews\n",
    "df['Reviews_length'] = df['Reviews'].apply(len)\n",
    "sns.boxplot(x='sentiment', y='Reviews_length', data=df)"
   ]
  }
 ],
 "metadata": {
  "kernelspec": {
   "display_name": "Python 3",
   "language": "python",
   "name": "python3"
  },
  "language_info": {
   "codemirror_mode": {
    "name": "ipython",
    "version": 3
   },
   "file_extension": ".py",
   "mimetype": "text/x-python",
   "name": "python",
   "nbconvert_exporter": "python",
   "pygments_lexer": "ipython3",
   "version": "3.11.7"
  }
 },
 "nbformat": 4,
 "nbformat_minor": 2
}
