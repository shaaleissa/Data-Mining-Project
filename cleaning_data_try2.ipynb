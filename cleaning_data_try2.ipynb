{
 "cells": [
  {
   "cell_type": "code",
   "execution_count": 2,
   "metadata": {},
   "outputs": [],
   "source": [
    "import pandas as pd\n",
    "import numpy as np\n",
    "import seaborn as sns\n",
    "from nltk.tokenize import word_tokenize\n",
    "from nltk.tokenize import RegexpTokenizer\n",
    "from nltk.corpus import stopwords\n",
    "import nltk"
   ]
  },
  {
   "cell_type": "code",
   "execution_count": 3,
   "metadata": {},
   "outputs": [
    {
     "name": "stderr",
     "output_type": "stream",
     "text": [
      "[nltk_data] Downloading package punkt to\n",
      "[nltk_data]     /Users/shahadaleissa/nltk_data...\n",
      "[nltk_data]   Unzipping tokenizers/punkt.zip.\n"
     ]
    },
    {
     "data": {
      "text/plain": [
       "True"
      ]
     },
     "execution_count": 3,
     "metadata": {},
     "output_type": "execute_result"
    }
   ],
   "source": [
    "nltk.download('punkt')"
   ]
  },
  {
   "cell_type": "code",
   "execution_count": 4,
   "metadata": {},
   "outputs": [
    {
     "data": {
      "text/html": [
       "<div>\n",
       "<style scoped>\n",
       "    .dataframe tbody tr th:only-of-type {\n",
       "        vertical-align: middle;\n",
       "    }\n",
       "\n",
       "    .dataframe tbody tr th {\n",
       "        vertical-align: top;\n",
       "    }\n",
       "\n",
       "    .dataframe thead th {\n",
       "        text-align: right;\n",
       "    }\n",
       "</style>\n",
       "<table border=\"1\" class=\"dataframe\">\n",
       "  <thead>\n",
       "    <tr style=\"text-align: right;\">\n",
       "      <th></th>\n",
       "      <th>Reviews</th>\n",
       "    </tr>\n",
       "  </thead>\n",
       "  <tbody>\n",
       "    <tr>\n",
       "      <th>0</th>\n",
       "      <td>كان لي تجربه اكثر من رائعة اليوم في هذا الفرع ...</td>\n",
       "    </tr>\n",
       "    <tr>\n",
       "      <th>1</th>\n",
       "      <td>اسوء خدمة شركة اتصالات على المستوى العربي كله ...</td>\n",
       "    </tr>\n",
       "    <tr>\n",
       "      <th>2</th>\n",
       "      <td>اشكر الموظفة ضيء على تعاملها ورقيها وخدمتها لي...</td>\n",
       "    </tr>\n",
       "    <tr>\n",
       "      <th>3</th>\n",
       "      <td>اسوأ نت في العالم عانيت مليون مرررررا منهم رفع...</td>\n",
       "    </tr>\n",
       "    <tr>\n",
       "      <th>4</th>\n",
       "      <td>الفرع جداً ممتاز وأشكر الأخوات الموظفات على رح...</td>\n",
       "    </tr>\n",
       "    <tr>\n",
       "      <th>...</th>\n",
       "      <td>...</td>\n",
       "    </tr>\n",
       "    <tr>\n",
       "      <th>454</th>\n",
       "      <td>إنترنت لا محدود / سرعة 200 ميقا    .  . . .  #...</td>\n",
       "    </tr>\n",
       "    <tr>\n",
       "      <th>455</th>\n",
       "      <td>إنترنت لا محدود / سرعة 200 ميقا    .  . . .  #...</td>\n",
       "    </tr>\n",
       "    <tr>\n",
       "      <th>456</th>\n",
       "      <td>سرعة عالية 200ميجا . . . . . . . . . . 🤍💚  #ال...</td>\n",
       "    </tr>\n",
       "    <tr>\n",
       "      <th>457</th>\n",
       "      <td>سرعة عالية 200ميجا . . . . . . . . . . 🤍💚  #ال...</td>\n",
       "    </tr>\n",
       "    <tr>\n",
       "      <th>458</th>\n",
       "      <td>كيف اشترك فيها ؟ لان ما تطلع  لي بالتطبيق الا ...</td>\n",
       "    </tr>\n",
       "  </tbody>\n",
       "</table>\n",
       "<p>459 rows × 1 columns</p>\n",
       "</div>"
      ],
      "text/plain": [
       "                                               Reviews\n",
       "0    كان لي تجربه اكثر من رائعة اليوم في هذا الفرع ...\n",
       "1    اسوء خدمة شركة اتصالات على المستوى العربي كله ...\n",
       "2    اشكر الموظفة ضيء على تعاملها ورقيها وخدمتها لي...\n",
       "3    اسوأ نت في العالم عانيت مليون مرررررا منهم رفع...\n",
       "4    الفرع جداً ممتاز وأشكر الأخوات الموظفات على رح...\n",
       "..                                                 ...\n",
       "454  إنترنت لا محدود / سرعة 200 ميقا    .  . . .  #...\n",
       "455  إنترنت لا محدود / سرعة 200 ميقا    .  . . .  #...\n",
       "456  سرعة عالية 200ميجا . . . . . . . . . . 🤍💚  #ال...\n",
       "457  سرعة عالية 200ميجا . . . . . . . . . . 🤍💚  #ال...\n",
       "458  كيف اشترك فيها ؟ لان ما تطلع  لي بالتطبيق الا ...\n",
       "\n",
       "[459 rows x 1 columns]"
      ]
     },
     "execution_count": 4,
     "metadata": {},
     "output_type": "execute_result"
    }
   ],
   "source": [
    "df= pd.read_csv('combined_dataset.csv')\n",
    "df"
   ]
  },
  {
   "cell_type": "code",
   "execution_count": 5,
   "metadata": {},
   "outputs": [],
   "source": [
    "def count_duplicates(df):\n",
    "    \"\"\"\n",
    "    Counts the number of duplicate rows in the given DataFrame.\n",
    "\n",
    "    Parameters:\n",
    "    df (pd.DataFrame): The DataFrame in which to find duplicates.\n",
    "\n",
    "    Returns:\n",
    "    int: The number of duplicate rows in the DataFrame.\n",
    "    \"\"\"\n",
    "    # Count duplicate rows, excluding the first occurrence\n",
    "    duplicates_count = df.duplicated(keep='first').sum()\n",
    "    return duplicates_count"
   ]
  },
  {
   "cell_type": "code",
   "execution_count": 6,
   "metadata": {},
   "outputs": [
    {
     "data": {
      "text/plain": [
       "65"
      ]
     },
     "execution_count": 6,
     "metadata": {},
     "output_type": "execute_result"
    }
   ],
   "source": [
    "count_duplicates(df)"
   ]
  },
  {
   "cell_type": "code",
   "execution_count": 7,
   "metadata": {},
   "outputs": [],
   "source": [
    "def remove_duplicates(df, subset=None, keep='first', inplace=False):\n",
    "    \"\"\"\n",
    "    Removes duplicate rows from the given DataFrame.\n",
    "\n",
    "    Parameters:\n",
    "    df (pd.DataFrame): The DataFrame from which to remove duplicates.\n",
    "    subset (list of str, optional): Column labels to consider for identifying duplicates. \n",
    "                                    If None, consider all columns.\n",
    "    keep ({'first', 'last', False}, default 'first'): Determines which duplicates (if any) to keep.\n",
    "                                                      - 'first': Drop duplicates except for the first occurrence.\n",
    "                                                      - 'last': Drop duplicates except for the last occurrence.\n",
    "                                                      - False: Drop all duplicates.\n",
    "    inplace (bool, default False): Whether to drop duplicates in place or to return a copy.\n",
    "\n",
    "    Returns:\n",
    "    pd.DataFrame or None: A new DataFrame with duplicates removed, if inplace=False. \n",
    "                          None if inplace=True.\n",
    "    \"\"\"\n",
    "    if inplace:\n",
    "        df.drop_duplicates(subset=subset, keep=keep, inplace=True)\n",
    "    else:\n",
    "        return df.drop_duplicates(subset=subset, keep=keep)"
   ]
  },
  {
   "cell_type": "code",
   "execution_count": 8,
   "metadata": {},
   "outputs": [],
   "source": [
    "remove_duplicates(df, inplace=True)"
   ]
  },
  {
   "cell_type": "code",
   "execution_count": 10,
   "metadata": {},
   "outputs": [
    {
     "data": {
      "text/plain": [
       "0"
      ]
     },
     "execution_count": 10,
     "metadata": {},
     "output_type": "execute_result"
    }
   ],
   "source": [
    "count_duplicates(df)"
   ]
  },
  {
   "cell_type": "code",
   "execution_count": 12,
   "metadata": {},
   "outputs": [
    {
     "data": {
      "text/plain": [
       "Reviews    1\n",
       "dtype: int64"
      ]
     },
     "execution_count": 12,
     "metadata": {},
     "output_type": "execute_result"
    }
   ],
   "source": [
    "df.isna().sum()"
   ]
  },
  {
   "cell_type": "code",
   "execution_count": 13,
   "metadata": {},
   "outputs": [],
   "source": [
    "df.dropna(inplace=True)"
   ]
  },
  {
   "cell_type": "code",
   "execution_count": 14,
   "metadata": {},
   "outputs": [
    {
     "data": {
      "text/plain": [
       "Reviews    0\n",
       "dtype: int64"
      ]
     },
     "execution_count": 14,
     "metadata": {},
     "output_type": "execute_result"
    }
   ],
   "source": [
    "df.isna().sum()"
   ]
  },
  {
   "cell_type": "markdown",
   "metadata": {},
   "source": [
    "## using aranorm for arabic text processing"
   ]
  },
  {
   "cell_type": "code",
   "execution_count": 11,
   "metadata": {},
   "outputs": [],
   "source": [
    "import aranorm"
   ]
  },
  {
   "cell_type": "code",
   "execution_count": 15,
   "metadata": {},
   "outputs": [],
   "source": [
    "df['Reviews']=df['Reviews'].apply(aranorm.normalize_tweet)"
   ]
  },
  {
   "cell_type": "code",
   "execution_count": 16,
   "metadata": {},
   "outputs": [
    {
     "data": {
      "text/html": [
       "<div>\n",
       "<style scoped>\n",
       "    .dataframe tbody tr th:only-of-type {\n",
       "        vertical-align: middle;\n",
       "    }\n",
       "\n",
       "    .dataframe tbody tr th {\n",
       "        vertical-align: top;\n",
       "    }\n",
       "\n",
       "    .dataframe thead th {\n",
       "        text-align: right;\n",
       "    }\n",
       "</style>\n",
       "<table border=\"1\" class=\"dataframe\">\n",
       "  <thead>\n",
       "    <tr style=\"text-align: right;\">\n",
       "      <th></th>\n",
       "      <th>Reviews</th>\n",
       "    </tr>\n",
       "  </thead>\n",
       "  <tbody>\n",
       "    <tr>\n",
       "      <th>0</th>\n",
       "      <td>كان لي تجربه اكثر من راءعه اليوم في هذا الفرع ...</td>\n",
       "    </tr>\n",
       "    <tr>\n",
       "      <th>1</th>\n",
       "      <td>اسوء خدمه شركه اتصالات علي المستوي العربي كله ...</td>\n",
       "    </tr>\n",
       "    <tr>\n",
       "      <th>2</th>\n",
       "      <td>اشكر الموظفه ضيء علي تعاملها ورقيها وخدمتها لي...</td>\n",
       "    </tr>\n",
       "    <tr>\n",
       "      <th>3</th>\n",
       "      <td>اسوا نت في العالم عانيت مليون مرررررا منهم رفع...</td>\n",
       "    </tr>\n",
       "    <tr>\n",
       "      <th>4</th>\n",
       "      <td>الفرع جدا ممتاز واشكر الاخوات الموظفات علي رحا...</td>\n",
       "    </tr>\n",
       "    <tr>\n",
       "      <th>...</th>\n",
       "      <td>...</td>\n",
       "    </tr>\n",
       "    <tr>\n",
       "      <th>452</th>\n",
       "      <td>قويه</td>\n",
       "    </tr>\n",
       "    <tr>\n",
       "      <th>453</th>\n",
       "      <td>انترنت لا محدود سرعه ميقا زين السعوديه</td>\n",
       "    </tr>\n",
       "    <tr>\n",
       "      <th>455</th>\n",
       "      <td>انترنت لا محدود سرعه ميقا زين السعوديه</td>\n",
       "    </tr>\n",
       "    <tr>\n",
       "      <th>456</th>\n",
       "      <td>سرعه عاليه ميجا ال زين يارب وماخاب من قال يارب</td>\n",
       "    </tr>\n",
       "    <tr>\n",
       "      <th>458</th>\n",
       "      <td>كيف اشترك فيها لان ما تطلع لي بالتطبيق الا اذا...</td>\n",
       "    </tr>\n",
       "  </tbody>\n",
       "</table>\n",
       "<p>393 rows × 1 columns</p>\n",
       "</div>"
      ],
      "text/plain": [
       "                                               Reviews\n",
       "0    كان لي تجربه اكثر من راءعه اليوم في هذا الفرع ...\n",
       "1    اسوء خدمه شركه اتصالات علي المستوي العربي كله ...\n",
       "2    اشكر الموظفه ضيء علي تعاملها ورقيها وخدمتها لي...\n",
       "3    اسوا نت في العالم عانيت مليون مرررررا منهم رفع...\n",
       "4    الفرع جدا ممتاز واشكر الاخوات الموظفات علي رحا...\n",
       "..                                                 ...\n",
       "452                                               قويه\n",
       "453             انترنت لا محدود سرعه ميقا زين السعوديه\n",
       "455             انترنت لا محدود سرعه ميقا زين السعوديه\n",
       "456     سرعه عاليه ميجا ال زين يارب وماخاب من قال يارب\n",
       "458  كيف اشترك فيها لان ما تطلع لي بالتطبيق الا اذا...\n",
       "\n",
       "[393 rows x 1 columns]"
      ]
     },
     "execution_count": 16,
     "metadata": {},
     "output_type": "execute_result"
    }
   ],
   "source": [
    "df"
   ]
  },
  {
   "cell_type": "code",
   "execution_count": 17,
   "metadata": {},
   "outputs": [
    {
     "data": {
      "text/plain": [
       "6"
      ]
     },
     "execution_count": 17,
     "metadata": {},
     "output_type": "execute_result"
    }
   ],
   "source": [
    "count_duplicates(df)"
   ]
  },
  {
   "cell_type": "code",
   "execution_count": 18,
   "metadata": {},
   "outputs": [],
   "source": [
    "remove_duplicates(df, inplace=True)"
   ]
  },
  {
   "cell_type": "code",
   "execution_count": 19,
   "metadata": {},
   "outputs": [
    {
     "data": {
      "text/plain": [
       "0"
      ]
     },
     "execution_count": 19,
     "metadata": {},
     "output_type": "execute_result"
    }
   ],
   "source": [
    "count_duplicates(df)"
   ]
  }
 ],
 "metadata": {
  "kernelspec": {
   "display_name": "Python 3",
   "language": "python",
   "name": "python3"
  },
  "language_info": {
   "codemirror_mode": {
    "name": "ipython",
    "version": 3
   },
   "file_extension": ".py",
   "mimetype": "text/x-python",
   "name": "python",
   "nbconvert_exporter": "python",
   "pygments_lexer": "ipython3",
   "version": "3.11.8"
  }
 },
 "nbformat": 4,
 "nbformat_minor": 2
}
